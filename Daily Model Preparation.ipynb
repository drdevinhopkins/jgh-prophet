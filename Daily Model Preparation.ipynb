{
 "cells": [
  {
   "cell_type": "code",
   "execution_count": 22,
   "metadata": {},
   "outputs": [],
   "source": [
    "#Facebook's Prophet library already included in Colab\n",
    "#!pip install fbprophet\n",
    "#Install World Weather Online library and import other dependencies:\n",
    "#!pip install wwo-hist\n",
    "import pandas as pd\n",
    "import numpy as np\n",
    "from fbprophet import Prophet\n",
    "from fbprophet.diagnostics import cross_validation\n",
    "from datetime import datetime, timedelta\n",
    "import requests\n",
    "from wwo_hist import retrieve_hist_data\n",
    "from datetime import date\n",
    "import pytz\n",
    "import plotly.graph_objects as go\n",
    "%matplotlib inline"
   ]
  },
  {
   "cell_type": "code",
   "execution_count": 2,
   "metadata": {},
   "outputs": [
    {
     "data": {
      "text/html": [
       "<div>\n",
       "<style scoped>\n",
       "    .dataframe tbody tr th:only-of-type {\n",
       "        vertical-align: middle;\n",
       "    }\n",
       "\n",
       "    .dataframe tbody tr th {\n",
       "        vertical-align: top;\n",
       "    }\n",
       "\n",
       "    .dataframe thead th {\n",
       "        text-align: right;\n",
       "    }\n",
       "</style>\n",
       "<table border=\"1\" class=\"dataframe\">\n",
       "  <thead>\n",
       "    <tr style=\"text-align: right;\">\n",
       "      <th></th>\n",
       "      <th>ds</th>\n",
       "      <th>y</th>\n",
       "    </tr>\n",
       "  </thead>\n",
       "  <tbody>\n",
       "    <tr>\n",
       "      <td>2806</td>\n",
       "      <td>2020-01-07</td>\n",
       "      <td>314</td>\n",
       "    </tr>\n",
       "    <tr>\n",
       "      <td>2807</td>\n",
       "      <td>2020-01-08</td>\n",
       "      <td>259</td>\n",
       "    </tr>\n",
       "    <tr>\n",
       "      <td>2808</td>\n",
       "      <td>2020-01-09</td>\n",
       "      <td>241</td>\n",
       "    </tr>\n",
       "    <tr>\n",
       "      <td>2809</td>\n",
       "      <td>2020-01-10</td>\n",
       "      <td>239</td>\n",
       "    </tr>\n",
       "    <tr>\n",
       "      <td>2810</td>\n",
       "      <td>2020-01-11</td>\n",
       "      <td>171</td>\n",
       "    </tr>\n",
       "  </tbody>\n",
       "</table>\n",
       "</div>"
      ],
      "text/plain": [
       "              ds    y\n",
       "2806  2020-01-07  314\n",
       "2807  2020-01-08  259\n",
       "2808  2020-01-09  241\n",
       "2809  2020-01-10  239\n",
       "2810  2020-01-11  171"
      ]
     },
     "execution_count": 2,
     "metadata": {},
     "output_type": "execute_result"
    }
   ],
   "source": [
    "#Import our visit data from an excel file on Dropbox\n",
    "df = pd.read_excel('daily-visits-incl-20-01-11.xlsx')\n",
    "#Prophet only accepts these columns names:\n",
    "df.columns = ['ds','y']\n",
    "#Some of the timestamp day occasionally is off by a few milliseconds, not sure why, but we'll fix it by rounding:\n",
    "df['ds'] = df['ds'].dt.round('15min')\n",
    "#I've saved the data as hourly visits, so to convert to daily visits we group by date:\n",
    "df = df.groupby([df['ds'].dt.date]).sum()\n",
    "df = df.reset_index()\n",
    "df = df.dropna()\n",
    "df.tail()"
   ]
  },
  {
   "cell_type": "code",
   "execution_count": 3,
   "metadata": {},
   "outputs": [
    {
     "name": "stdout",
     "output_type": "stream",
     "text": [
      "        RAMQ        JGH\n",
      "0 2015-05-18 2015-05-18\n",
      "1 2015-06-24 2015-06-24\n",
      "2 2015-07-01 2015-07-01\n",
      "3 2015-09-07 2015-09-07\n",
      "4 2015-10-12 2015-10-12\n",
      "0   2015-05-18\n",
      "1   2015-06-24\n",
      "2   2015-07-01\n",
      "3   2015-09-07\n",
      "4   2015-10-12\n",
      "Name: RAMQ, dtype: datetime64[ns]\n",
      "0   2015-05-18\n",
      "1   2015-06-24\n",
      "2   2015-07-01\n",
      "3   2015-09-07\n",
      "4   2015-10-12\n",
      "Name: JGH, dtype: datetime64[ns]\n"
     ]
    }
   ],
   "source": [
    "#Import our stat days excel file, split them by RAMQ vs JGH\n",
    "stat_days_df = pd.read_excel('https://www.dropbox.com/s/6kv67yhuv6f3b3h/statdays.xlsx?dl=1')\n",
    "print(stat_days_df.head())\n",
    "ramq_stat_days = stat_days_df['RAMQ']\n",
    "ramq_stat_days = ramq_stat_days.dropna()\n",
    "print(ramq_stat_days.head())\n",
    "jgh_stat_days = stat_days_df['JGH']\n",
    "jgh_stat_days = jgh_stat_days.dropna()\n",
    "print(jgh_stat_days.head())"
   ]
  },
  {
   "cell_type": "code",
   "execution_count": 4,
   "metadata": {},
   "outputs": [
    {
     "name": "stdout",
     "output_type": "stream",
     "text": [
      "  holiday         ds  lower_window  upper_window\n",
      "0    ramq 2015-05-18             0             1\n",
      "1    ramq 2015-06-24             0             1\n",
      "2    ramq 2015-07-01             0             1\n",
      "3    ramq 2015-09-07             0             1\n",
      "4    ramq 2015-10-12             0             1\n",
      "  holiday         ds  lower_window  upper_window\n",
      "0     jgh 2015-05-18             0             1\n",
      "1     jgh 2015-06-24             0             1\n",
      "2     jgh 2015-07-01             0             1\n",
      "3     jgh 2015-09-07             0             1\n",
      "4     jgh 2015-10-12             0             1\n",
      "   holiday         ds  lower_window  upper_window\n",
      "44     jgh 2018-08-06             0             1\n",
      "25    ramq 2017-04-17             0             1\n",
      "29    ramq 2017-09-04             0             1\n",
      "39    ramq 2018-05-21             0             1\n",
      "32     jgh 2017-12-25             0             1\n",
      "52    ramq 2019-05-20             0             1\n",
      "59    ramq 2019-12-26             0             1\n",
      "69    ramq 2020-10-12             0             1\n",
      "15    ramq 2016-07-01             0             1\n",
      "66     jgh 2012-06-25             0             1\n"
     ]
    }
   ],
   "source": [
    "#Save the stat day data in the format expected by Prophet\n",
    "ramq_stat_days = pd.DataFrame({\n",
    "  'holiday': 'ramq',\n",
    "  'ds': ramq_stat_days.to_list(),\n",
    "  'lower_window': 0,\n",
    "  'upper_window': 1,\n",
    "})\n",
    "print(ramq_stat_days.head())\n",
    "jgh_stat_days = pd.DataFrame({\n",
    "  'holiday': 'jgh',\n",
    "  'ds': jgh_stat_days.to_list(),\n",
    "  'lower_window': 0,\n",
    "  'upper_window': 1,\n",
    "})\n",
    "print(jgh_stat_days.head())\n",
    "holidays = pd.concat((ramq_stat_days, jgh_stat_days))\n",
    "print(holidays.sample(10))"
   ]
  },
  {
   "cell_type": "code",
   "execution_count": 5,
   "metadata": {},
   "outputs": [
    {
     "name": "stdout",
     "output_type": "stream",
     "text": [
      "        dateTime            homeTeam            awayTeam  awayScore  homeScore\n",
      "2415  2019-02-25   New Jersey Devils  Montréal Canadiens          1          2\n",
      "654   2014-10-01  Chicago Blackhawks  Montréal Canadiens          3          1\n",
      "294   2013-11-01      Minnesota Wild  Montréal Canadiens          3          4\n",
      "2314  2018-12-28    Florida Panthers  Montréal Canadiens          5          3\n",
      "1346  2016-03-15  Montréal Canadiens    Florida Panthers          4          1\n",
      "        dateTime            homeTeam            awayTeam  awayScore  homeScore\n",
      "1550  2016-12-20  Montréal Canadiens       Anaheim Ducks          1          5\n",
      "1438  2016-10-20  Montréal Canadiens     Arizona Coyotes          2          5\n",
      "208   2013-05-09  Montréal Canadiens     Ottawa Senators          6          1\n",
      "518   2014-03-18  Montréal Canadiens  Colorado Avalanche          3          6\n",
      "471   2014-02-06  Montréal Canadiens   Vancouver Canucks          2          5\n",
      "        dateTime             homeTeam            awayTeam  awayScore  \\\n",
      "1644  2017-02-09      Arizona Coyotes  Montréal Canadiens          5   \n",
      "1957  2017-12-28  Tampa Bay Lightning  Montréal Canadiens          1   \n",
      "889   2015-02-18      Ottawa Senators  Montréal Canadiens          2   \n",
      "833   2015-01-15      Ottawa Senators  Montréal Canadiens          1   \n",
      "118   2013-03-21   New York Islanders  Montréal Canadiens          5   \n",
      "\n",
      "      homeScore  \n",
      "1644          4  \n",
      "1957          3  \n",
      "889           4  \n",
      "833           4  \n",
      "118           2  \n",
      "         holiday         ds  lower_window  upper_window\n",
      "2142  homeHockey 2018-09-19             0             1\n",
      "723   homeHockey 2014-11-08             0             1\n",
      "1052  awayHockey 2015-09-26             0             1\n",
      "2367  homeHockey 2019-01-23             0             1\n",
      "2606  homeHockey 2019-11-20             0             1\n",
      "1774  awayHockey 2017-04-22             0             1\n",
      "2257  homeHockey 2018-11-24             0             1\n",
      "160   awayHockey 2013-04-13             0             1\n",
      "2771  awayHockey 2020-02-20             0             1\n",
      "2670  awayHockey 2019-12-28             0             1\n"
     ]
    }
   ],
   "source": [
    "#Get all Montreal Canadiens games in our time frame (2012-present) from the NHL's REST API\n",
    "resp = requests.get('https://statsapi.web.nhl.com/api/v1/schedule?teamId=8&startDate=2012-05-01&endDate=2020-05-01')\n",
    "if resp.status_code != 200:\n",
    "    raise ApiError('GET /tasks/ {}'.format(resp.status_code))\n",
    "\n",
    "games = []\n",
    "for date in resp.json()['dates']:\n",
    "  for g in date['games']:\n",
    "    for hour in [0,1,2,3]:\n",
    "          toAppend = {'dateTime':datetime.strptime(g['gameDate'], \"%Y-%m-%dT%H:%M:%SZ\")-timedelta(hours=5-hour),'homeTeam':g['teams']['home']['team']['name'], 'awayTeam':g['teams']['away']['team']['name']}\n",
    "          toAppend['awayScore'] = g['teams']['away']['score']\n",
    "          toAppend['homeScore'] = g['teams']['home']['score']\n",
    "          games.append(toAppend)\n",
    "hockey_df = pd.DataFrame(games)\n",
    "hockey_df['dateTime'] = hockey_df['dateTime'].dt.date\n",
    "print(hockey_df.sample(5))\n",
    "\n",
    "#Separate the games by Home or Away\n",
    "home_hockey_df = hockey_df[hockey_df['homeTeam'].isin(['Montréal Canadiens','MontrÃ©al Canadiens'])]\n",
    "print(home_hockey_df.sample(5))\n",
    "\n",
    "away_hockey_df = hockey_df[hockey_df['awayTeam'].isin(['Montréal Canadiens','MontrÃ©al Canadiens'])]\n",
    "print(away_hockey_df.sample(5))\n",
    "\n",
    "#Format them as Prophet expects\n",
    "home_hockey = pd.DataFrame({\n",
    "  'holiday': 'homeHockey',\n",
    "  'ds': pd.to_datetime(home_hockey_df['dateTime']),\n",
    "  'lower_window': 0,\n",
    "  'upper_window': 1,\n",
    "})\n",
    "\n",
    "away_hockey = pd.DataFrame({\n",
    "  'holiday': 'awayHockey',\n",
    "  'ds': pd.to_datetime(away_hockey_df['dateTime']),\n",
    "  'lower_window': 0,\n",
    "  'upper_window': 1,\n",
    "})\n",
    "\n",
    "#Add the hockey games to our stat day data\n",
    "holidays = pd.concat((home_hockey, away_hockey, ramq_stat_days, jgh_stat_days))\n",
    "print(holidays.sample(10))"
   ]
  },
  {
   "cell_type": "code",
   "execution_count": 58,
   "metadata": {},
   "outputs": [
    {
     "data": {
      "text/html": [
       "<div>\n",
       "<style scoped>\n",
       "    .dataframe tbody tr th:only-of-type {\n",
       "        vertical-align: middle;\n",
       "    }\n",
       "\n",
       "    .dataframe tbody tr th {\n",
       "        vertical-align: top;\n",
       "    }\n",
       "\n",
       "    .dataframe thead th {\n",
       "        text-align: right;\n",
       "    }\n",
       "</style>\n",
       "<table border=\"1\" class=\"dataframe\">\n",
       "  <thead>\n",
       "    <tr style=\"text-align: right;\">\n",
       "      <th></th>\n",
       "      <th>ds</th>\n",
       "      <th>maxtempC</th>\n",
       "      <th>mintempC</th>\n",
       "      <th>totalSnow_cm</th>\n",
       "      <th>sunHour</th>\n",
       "      <th>uvIndex</th>\n",
       "      <th>uvIndex.1</th>\n",
       "      <th>moon_illumination</th>\n",
       "      <th>DewPointC</th>\n",
       "      <th>FeelsLikeC</th>\n",
       "      <th>...</th>\n",
       "      <th>WindChillC</th>\n",
       "      <th>WindGustKmph</th>\n",
       "      <th>cloudcover</th>\n",
       "      <th>humidity</th>\n",
       "      <th>precipMM</th>\n",
       "      <th>pressure</th>\n",
       "      <th>tempC</th>\n",
       "      <th>visibility</th>\n",
       "      <th>winddirDegree</th>\n",
       "      <th>windspeedKmph</th>\n",
       "    </tr>\n",
       "  </thead>\n",
       "  <tbody>\n",
       "    <tr>\n",
       "      <td>2807</td>\n",
       "      <td>2020-01-07</td>\n",
       "      <td>-6</td>\n",
       "      <td>-13</td>\n",
       "      <td>0.4</td>\n",
       "      <td>6.9</td>\n",
       "      <td>1</td>\n",
       "      <td>1</td>\n",
       "      <td>80</td>\n",
       "      <td>-8</td>\n",
       "      <td>-12</td>\n",
       "      <td>...</td>\n",
       "      <td>-12</td>\n",
       "      <td>19</td>\n",
       "      <td>62</td>\n",
       "      <td>87</td>\n",
       "      <td>1.2</td>\n",
       "      <td>1014</td>\n",
       "      <td>-6</td>\n",
       "      <td>9</td>\n",
       "      <td>214</td>\n",
       "      <td>11</td>\n",
       "    </tr>\n",
       "    <tr>\n",
       "      <td>2808</td>\n",
       "      <td>2020-01-08</td>\n",
       "      <td>-1</td>\n",
       "      <td>-12</td>\n",
       "      <td>3.9</td>\n",
       "      <td>3.4</td>\n",
       "      <td>1</td>\n",
       "      <td>1</td>\n",
       "      <td>88</td>\n",
       "      <td>-6</td>\n",
       "      <td>-8</td>\n",
       "      <td>...</td>\n",
       "      <td>-8</td>\n",
       "      <td>25</td>\n",
       "      <td>88</td>\n",
       "      <td>88</td>\n",
       "      <td>5.1</td>\n",
       "      <td>1011</td>\n",
       "      <td>-1</td>\n",
       "      <td>5</td>\n",
       "      <td>269</td>\n",
       "      <td>16</td>\n",
       "    </tr>\n",
       "    <tr>\n",
       "      <td>2809</td>\n",
       "      <td>2020-01-09</td>\n",
       "      <td>-13</td>\n",
       "      <td>-17</td>\n",
       "      <td>0.0</td>\n",
       "      <td>6.9</td>\n",
       "      <td>1</td>\n",
       "      <td>1</td>\n",
       "      <td>95</td>\n",
       "      <td>-16</td>\n",
       "      <td>-20</td>\n",
       "      <td>...</td>\n",
       "      <td>-20</td>\n",
       "      <td>17</td>\n",
       "      <td>44</td>\n",
       "      <td>87</td>\n",
       "      <td>0.0</td>\n",
       "      <td>1037</td>\n",
       "      <td>-13</td>\n",
       "      <td>10</td>\n",
       "      <td>204</td>\n",
       "      <td>11</td>\n",
       "    </tr>\n",
       "    <tr>\n",
       "      <td>2810</td>\n",
       "      <td>2020-01-10</td>\n",
       "      <td>1</td>\n",
       "      <td>-9</td>\n",
       "      <td>0.2</td>\n",
       "      <td>3.4</td>\n",
       "      <td>1</td>\n",
       "      <td>1</td>\n",
       "      <td>100</td>\n",
       "      <td>-3</td>\n",
       "      <td>-6</td>\n",
       "      <td>...</td>\n",
       "      <td>-6</td>\n",
       "      <td>20</td>\n",
       "      <td>92</td>\n",
       "      <td>92</td>\n",
       "      <td>1.6</td>\n",
       "      <td>1025</td>\n",
       "      <td>1</td>\n",
       "      <td>4</td>\n",
       "      <td>185</td>\n",
       "      <td>12</td>\n",
       "    </tr>\n",
       "    <tr>\n",
       "      <td>2811</td>\n",
       "      <td>2020-01-11</td>\n",
       "      <td>5</td>\n",
       "      <td>-4</td>\n",
       "      <td>10.0</td>\n",
       "      <td>3.4</td>\n",
       "      <td>1</td>\n",
       "      <td>1</td>\n",
       "      <td>100</td>\n",
       "      <td>2</td>\n",
       "      <td>-2</td>\n",
       "      <td>...</td>\n",
       "      <td>-2</td>\n",
       "      <td>26</td>\n",
       "      <td>100</td>\n",
       "      <td>99</td>\n",
       "      <td>56.6</td>\n",
       "      <td>1015</td>\n",
       "      <td>5</td>\n",
       "      <td>5</td>\n",
       "      <td>142</td>\n",
       "      <td>15</td>\n",
       "    </tr>\n",
       "  </tbody>\n",
       "</table>\n",
       "<p>5 rows × 21 columns</p>\n",
       "</div>"
      ],
      "text/plain": [
       "             ds  maxtempC  mintempC  totalSnow_cm  sunHour  uvIndex  \\\n",
       "2807 2020-01-07        -6       -13           0.4      6.9        1   \n",
       "2808 2020-01-08        -1       -12           3.9      3.4        1   \n",
       "2809 2020-01-09       -13       -17           0.0      6.9        1   \n",
       "2810 2020-01-10         1        -9           0.2      3.4        1   \n",
       "2811 2020-01-11         5        -4          10.0      3.4        1   \n",
       "\n",
       "      uvIndex.1  moon_illumination  DewPointC  FeelsLikeC  ...  WindChillC  \\\n",
       "2807          1                 80         -8         -12  ...         -12   \n",
       "2808          1                 88         -6          -8  ...          -8   \n",
       "2809          1                 95        -16         -20  ...         -20   \n",
       "2810          1                100         -3          -6  ...          -6   \n",
       "2811          1                100          2          -2  ...          -2   \n",
       "\n",
       "      WindGustKmph  cloudcover  humidity  precipMM  pressure  tempC  \\\n",
       "2807            19          62        87       1.2      1014     -6   \n",
       "2808            25          88        88       5.1      1011     -1   \n",
       "2809            17          44        87       0.0      1037    -13   \n",
       "2810            20          92        92       1.6      1025      1   \n",
       "2811            26         100        99      56.6      1015      5   \n",
       "\n",
       "      visibility  winddirDegree  windspeedKmph  \n",
       "2807           9            214             11  \n",
       "2808           5            269             16  \n",
       "2809          10            204             11  \n",
       "2810           4            185             12  \n",
       "2811           5            142             15  \n",
       "\n",
       "[5 rows x 21 columns]"
      ]
     },
     "execution_count": 58,
     "metadata": {},
     "output_type": "execute_result"
    }
   ],
   "source": [
    "#Load our weather data from Dropbox\n",
    "weather_df = pd.read_csv('hist-daily-weather-incl-20-01-14.csv')\n",
    "#weather_df['date_time']=pd.to_datetime(weather_df['date_time'])\n",
    "#The Moon and Sunrise/set data are not numerical, so we'll drop them for this analysis\n",
    "#weather_df = weather_df.drop(['moonrise','moonset','sunrise','sunset'],axis=1)\n",
    "#weather_df = weather_df.rename(columns={\"date_time\": \"ds\"})\n",
    "weather_df['ds'] = pd.to_datetime(weather_df['ds'])\n",
    "weather_df.tail()"
   ]
  },
  {
   "cell_type": "code",
   "execution_count": 59,
   "metadata": {},
   "outputs": [],
   "source": [
    "#weather_df.ds.max()+timedelta(days=1)"
   ]
  },
  {
   "cell_type": "code",
   "execution_count": 60,
   "metadata": {},
   "outputs": [
    {
     "name": "stdout",
     "output_type": "stream",
     "text": [
      "\n",
      "\n",
      "Retrieving weather data for Montreal\n",
      "\n",
      "\n",
      "Currently retrieving data for Montreal: from 2020-01-12 to 2020-01-14\n",
      "Time elapsed (hh:mm:ss.ms) 0:00:00.327951\n",
      "\n",
      "\n",
      "export Montreal completed!\n",
      "\n",
      "\n"
     ]
    }
   ],
   "source": [
    "#Fetch whichever days are missing, and 2 days into the future (weather forecast), which is the maximum the WWO API let's us access through the this API\n",
    "#The Data is saved as a csv file called 'Montreal'\n",
    "frequency = 24\n",
    "start_date = (weather_df.ds.max()+timedelta(days=1)).date().strftime(\"%d-%b-%Y\").upper()\n",
    "end_date = (datetime.now(pytz.utc)+timedelta(days=2)).astimezone(pytz.timezone('US/Eastern')).date().strftime(\"%d-%b-%Y\").upper()\n",
    "api_key = '3d51d04f983a478e90f164916191012'\n",
    "location_list = ['Montreal']\n",
    "hist_weather_data = retrieve_hist_data(api_key,\n",
    "                                location_list,\n",
    "                                start_date,\n",
    "                                end_date,\n",
    "                                frequency,\n",
    "                                location_label = False,\n",
    "                                export_csv = True,\n",
    "                                store_df = True)"
   ]
  },
  {
   "cell_type": "code",
   "execution_count": 61,
   "metadata": {},
   "outputs": [
    {
     "data": {
      "text/html": [
       "<div>\n",
       "<style scoped>\n",
       "    .dataframe tbody tr th:only-of-type {\n",
       "        vertical-align: middle;\n",
       "    }\n",
       "\n",
       "    .dataframe tbody tr th {\n",
       "        vertical-align: top;\n",
       "    }\n",
       "\n",
       "    .dataframe thead th {\n",
       "        text-align: right;\n",
       "    }\n",
       "</style>\n",
       "<table border=\"1\" class=\"dataframe\">\n",
       "  <thead>\n",
       "    <tr style=\"text-align: right;\">\n",
       "      <th></th>\n",
       "      <th>ds</th>\n",
       "      <th>maxtempC</th>\n",
       "      <th>mintempC</th>\n",
       "      <th>totalSnow_cm</th>\n",
       "      <th>sunHour</th>\n",
       "      <th>uvIndex</th>\n",
       "      <th>uvIndex.1</th>\n",
       "      <th>moon_illumination</th>\n",
       "      <th>DewPointC</th>\n",
       "      <th>FeelsLikeC</th>\n",
       "      <th>...</th>\n",
       "      <th>WindChillC</th>\n",
       "      <th>WindGustKmph</th>\n",
       "      <th>cloudcover</th>\n",
       "      <th>humidity</th>\n",
       "      <th>precipMM</th>\n",
       "      <th>pressure</th>\n",
       "      <th>tempC</th>\n",
       "      <th>visibility</th>\n",
       "      <th>winddirDegree</th>\n",
       "      <th>windspeedKmph</th>\n",
       "    </tr>\n",
       "  </thead>\n",
       "  <tbody>\n",
       "    <tr>\n",
       "      <td>0</td>\n",
       "      <td>2020-01-12</td>\n",
       "      <td>-8</td>\n",
       "      <td>-16</td>\n",
       "      <td>44.6</td>\n",
       "      <td>3.4</td>\n",
       "      <td>1</td>\n",
       "      <td>1</td>\n",
       "      <td>83</td>\n",
       "      <td>-11</td>\n",
       "      <td>-17</td>\n",
       "      <td>...</td>\n",
       "      <td>-17</td>\n",
       "      <td>31</td>\n",
       "      <td>93</td>\n",
       "      <td>92</td>\n",
       "      <td>52.2</td>\n",
       "      <td>1019</td>\n",
       "      <td>-8</td>\n",
       "      <td>5</td>\n",
       "      <td>226</td>\n",
       "      <td>21</td>\n",
       "    </tr>\n",
       "    <tr>\n",
       "      <td>1</td>\n",
       "      <td>2020-01-13</td>\n",
       "      <td>-11</td>\n",
       "      <td>-19</td>\n",
       "      <td>0.4</td>\n",
       "      <td>3.4</td>\n",
       "      <td>1</td>\n",
       "      <td>1</td>\n",
       "      <td>76</td>\n",
       "      <td>-15</td>\n",
       "      <td>-20</td>\n",
       "      <td>...</td>\n",
       "      <td>-20</td>\n",
       "      <td>15</td>\n",
       "      <td>70</td>\n",
       "      <td>95</td>\n",
       "      <td>0.5</td>\n",
       "      <td>1032</td>\n",
       "      <td>-11</td>\n",
       "      <td>6</td>\n",
       "      <td>29</td>\n",
       "      <td>9</td>\n",
       "    </tr>\n",
       "    <tr>\n",
       "      <td>2</td>\n",
       "      <td>2020-01-14</td>\n",
       "      <td>-11</td>\n",
       "      <td>-19</td>\n",
       "      <td>2.0</td>\n",
       "      <td>3.4</td>\n",
       "      <td>1</td>\n",
       "      <td>1</td>\n",
       "      <td>69</td>\n",
       "      <td>-13</td>\n",
       "      <td>-19</td>\n",
       "      <td>...</td>\n",
       "      <td>-19</td>\n",
       "      <td>18</td>\n",
       "      <td>95</td>\n",
       "      <td>96</td>\n",
       "      <td>3.1</td>\n",
       "      <td>1025</td>\n",
       "      <td>-11</td>\n",
       "      <td>7</td>\n",
       "      <td>42</td>\n",
       "      <td>11</td>\n",
       "    </tr>\n",
       "  </tbody>\n",
       "</table>\n",
       "<p>3 rows × 21 columns</p>\n",
       "</div>"
      ],
      "text/plain": [
       "          ds  maxtempC  mintempC  totalSnow_cm  sunHour  uvIndex  uvIndex.1  \\\n",
       "0 2020-01-12        -8       -16          44.6      3.4        1          1   \n",
       "1 2020-01-13       -11       -19           0.4      3.4        1          1   \n",
       "2 2020-01-14       -11       -19           2.0      3.4        1          1   \n",
       "\n",
       "   moon_illumination  DewPointC  FeelsLikeC  ...  WindChillC  WindGustKmph  \\\n",
       "0                 83        -11         -17  ...         -17            31   \n",
       "1                 76        -15         -20  ...         -20            15   \n",
       "2                 69        -13         -19  ...         -19            18   \n",
       "\n",
       "   cloudcover  humidity  precipMM  pressure  tempC  visibility  winddirDegree  \\\n",
       "0          93        92      52.2      1019     -8           5            226   \n",
       "1          70        95       0.5      1032    -11           6             29   \n",
       "2          95        96       3.1      1025    -11           7             42   \n",
       "\n",
       "   windspeedKmph  \n",
       "0             21  \n",
       "1              9  \n",
       "2             11  \n",
       "\n",
       "[3 rows x 21 columns]"
      ]
     },
     "execution_count": 61,
     "metadata": {},
     "output_type": "execute_result"
    }
   ],
   "source": [
    "#Load the missing weather data from the CSV file\n",
    "missing_weather_df = pd.read_csv('Montreal.csv')\n",
    "missing_weather_df['date_time']=pd.to_datetime(missing_weather_df['date_time'])\n",
    "missing_weather_df = missing_weather_df.drop(['moonrise','moonset','sunrise','sunset'],axis=1)\n",
    "missing_weather_df = missing_weather_df.rename(columns={\"date_time\": \"ds\"})\n",
    "missing_weather_df"
   ]
  },
  {
   "cell_type": "code",
   "execution_count": 62,
   "metadata": {},
   "outputs": [
    {
     "data": {
      "text/html": [
       "<div>\n",
       "<style scoped>\n",
       "    .dataframe tbody tr th:only-of-type {\n",
       "        vertical-align: middle;\n",
       "    }\n",
       "\n",
       "    .dataframe tbody tr th {\n",
       "        vertical-align: top;\n",
       "    }\n",
       "\n",
       "    .dataframe thead th {\n",
       "        text-align: right;\n",
       "    }\n",
       "</style>\n",
       "<table border=\"1\" class=\"dataframe\">\n",
       "  <thead>\n",
       "    <tr style=\"text-align: right;\">\n",
       "      <th></th>\n",
       "      <th>ds</th>\n",
       "      <th>maxtempC</th>\n",
       "      <th>mintempC</th>\n",
       "      <th>totalSnow_cm</th>\n",
       "      <th>sunHour</th>\n",
       "      <th>uvIndex</th>\n",
       "      <th>uvIndex.1</th>\n",
       "      <th>moon_illumination</th>\n",
       "      <th>DewPointC</th>\n",
       "      <th>FeelsLikeC</th>\n",
       "      <th>...</th>\n",
       "      <th>WindChillC</th>\n",
       "      <th>WindGustKmph</th>\n",
       "      <th>cloudcover</th>\n",
       "      <th>humidity</th>\n",
       "      <th>precipMM</th>\n",
       "      <th>pressure</th>\n",
       "      <th>tempC</th>\n",
       "      <th>visibility</th>\n",
       "      <th>winddirDegree</th>\n",
       "      <th>windspeedKmph</th>\n",
       "    </tr>\n",
       "  </thead>\n",
       "  <tbody>\n",
       "    <tr>\n",
       "      <td>2801</td>\n",
       "      <td>2020-01-01</td>\n",
       "      <td>-1</td>\n",
       "      <td>-6</td>\n",
       "      <td>6.7</td>\n",
       "      <td>3.3</td>\n",
       "      <td>1</td>\n",
       "      <td>1</td>\n",
       "      <td>37</td>\n",
       "      <td>-3</td>\n",
       "      <td>-7</td>\n",
       "      <td>...</td>\n",
       "      <td>-7</td>\n",
       "      <td>25</td>\n",
       "      <td>80</td>\n",
       "      <td>91</td>\n",
       "      <td>5.8</td>\n",
       "      <td>1000</td>\n",
       "      <td>-1</td>\n",
       "      <td>6</td>\n",
       "      <td>265</td>\n",
       "      <td>15</td>\n",
       "    </tr>\n",
       "    <tr>\n",
       "      <td>2802</td>\n",
       "      <td>2020-01-02</td>\n",
       "      <td>1</td>\n",
       "      <td>-4</td>\n",
       "      <td>0.3</td>\n",
       "      <td>3.3</td>\n",
       "      <td>1</td>\n",
       "      <td>1</td>\n",
       "      <td>44</td>\n",
       "      <td>-2</td>\n",
       "      <td>-5</td>\n",
       "      <td>...</td>\n",
       "      <td>-5</td>\n",
       "      <td>19</td>\n",
       "      <td>90</td>\n",
       "      <td>92</td>\n",
       "      <td>0.5</td>\n",
       "      <td>1007</td>\n",
       "      <td>1</td>\n",
       "      <td>9</td>\n",
       "      <td>189</td>\n",
       "      <td>11</td>\n",
       "    </tr>\n",
       "    <tr>\n",
       "      <td>2803</td>\n",
       "      <td>2020-01-03</td>\n",
       "      <td>2</td>\n",
       "      <td>1</td>\n",
       "      <td>0.0</td>\n",
       "      <td>3.3</td>\n",
       "      <td>1</td>\n",
       "      <td>1</td>\n",
       "      <td>51</td>\n",
       "      <td>1</td>\n",
       "      <td>-1</td>\n",
       "      <td>...</td>\n",
       "      <td>-1</td>\n",
       "      <td>18</td>\n",
       "      <td>99</td>\n",
       "      <td>98</td>\n",
       "      <td>0.0</td>\n",
       "      <td>1006</td>\n",
       "      <td>2</td>\n",
       "      <td>2</td>\n",
       "      <td>231</td>\n",
       "      <td>10</td>\n",
       "    </tr>\n",
       "    <tr>\n",
       "      <td>2804</td>\n",
       "      <td>2020-01-04</td>\n",
       "      <td>-2</td>\n",
       "      <td>-7</td>\n",
       "      <td>0.9</td>\n",
       "      <td>3.3</td>\n",
       "      <td>1</td>\n",
       "      <td>1</td>\n",
       "      <td>59</td>\n",
       "      <td>-4</td>\n",
       "      <td>-6</td>\n",
       "      <td>...</td>\n",
       "      <td>-6</td>\n",
       "      <td>13</td>\n",
       "      <td>84</td>\n",
       "      <td>91</td>\n",
       "      <td>1.6</td>\n",
       "      <td>1007</td>\n",
       "      <td>-2</td>\n",
       "      <td>7</td>\n",
       "      <td>34</td>\n",
       "      <td>8</td>\n",
       "    </tr>\n",
       "    <tr>\n",
       "      <td>2805</td>\n",
       "      <td>2020-01-05</td>\n",
       "      <td>-6</td>\n",
       "      <td>-10</td>\n",
       "      <td>1.3</td>\n",
       "      <td>6.9</td>\n",
       "      <td>1</td>\n",
       "      <td>1</td>\n",
       "      <td>66</td>\n",
       "      <td>-8</td>\n",
       "      <td>-11</td>\n",
       "      <td>...</td>\n",
       "      <td>-11</td>\n",
       "      <td>15</td>\n",
       "      <td>49</td>\n",
       "      <td>87</td>\n",
       "      <td>1.1</td>\n",
       "      <td>1009</td>\n",
       "      <td>-6</td>\n",
       "      <td>9</td>\n",
       "      <td>289</td>\n",
       "      <td>10</td>\n",
       "    </tr>\n",
       "    <tr>\n",
       "      <td>2806</td>\n",
       "      <td>2020-01-06</td>\n",
       "      <td>-2</td>\n",
       "      <td>-11</td>\n",
       "      <td>6.2</td>\n",
       "      <td>3.3</td>\n",
       "      <td>1</td>\n",
       "      <td>1</td>\n",
       "      <td>73</td>\n",
       "      <td>-8</td>\n",
       "      <td>-11</td>\n",
       "      <td>...</td>\n",
       "      <td>-11</td>\n",
       "      <td>12</td>\n",
       "      <td>95</td>\n",
       "      <td>94</td>\n",
       "      <td>7.5</td>\n",
       "      <td>1010</td>\n",
       "      <td>-2</td>\n",
       "      <td>6</td>\n",
       "      <td>159</td>\n",
       "      <td>8</td>\n",
       "    </tr>\n",
       "    <tr>\n",
       "      <td>2807</td>\n",
       "      <td>2020-01-07</td>\n",
       "      <td>-6</td>\n",
       "      <td>-13</td>\n",
       "      <td>0.4</td>\n",
       "      <td>6.9</td>\n",
       "      <td>1</td>\n",
       "      <td>1</td>\n",
       "      <td>80</td>\n",
       "      <td>-8</td>\n",
       "      <td>-12</td>\n",
       "      <td>...</td>\n",
       "      <td>-12</td>\n",
       "      <td>19</td>\n",
       "      <td>62</td>\n",
       "      <td>87</td>\n",
       "      <td>1.2</td>\n",
       "      <td>1014</td>\n",
       "      <td>-6</td>\n",
       "      <td>9</td>\n",
       "      <td>214</td>\n",
       "      <td>11</td>\n",
       "    </tr>\n",
       "    <tr>\n",
       "      <td>2808</td>\n",
       "      <td>2020-01-08</td>\n",
       "      <td>-1</td>\n",
       "      <td>-12</td>\n",
       "      <td>3.9</td>\n",
       "      <td>3.4</td>\n",
       "      <td>1</td>\n",
       "      <td>1</td>\n",
       "      <td>88</td>\n",
       "      <td>-6</td>\n",
       "      <td>-8</td>\n",
       "      <td>...</td>\n",
       "      <td>-8</td>\n",
       "      <td>25</td>\n",
       "      <td>88</td>\n",
       "      <td>88</td>\n",
       "      <td>5.1</td>\n",
       "      <td>1011</td>\n",
       "      <td>-1</td>\n",
       "      <td>5</td>\n",
       "      <td>269</td>\n",
       "      <td>16</td>\n",
       "    </tr>\n",
       "    <tr>\n",
       "      <td>2809</td>\n",
       "      <td>2020-01-09</td>\n",
       "      <td>-13</td>\n",
       "      <td>-17</td>\n",
       "      <td>0.0</td>\n",
       "      <td>6.9</td>\n",
       "      <td>1</td>\n",
       "      <td>1</td>\n",
       "      <td>95</td>\n",
       "      <td>-16</td>\n",
       "      <td>-20</td>\n",
       "      <td>...</td>\n",
       "      <td>-20</td>\n",
       "      <td>17</td>\n",
       "      <td>44</td>\n",
       "      <td>87</td>\n",
       "      <td>0.0</td>\n",
       "      <td>1037</td>\n",
       "      <td>-13</td>\n",
       "      <td>10</td>\n",
       "      <td>204</td>\n",
       "      <td>11</td>\n",
       "    </tr>\n",
       "    <tr>\n",
       "      <td>2810</td>\n",
       "      <td>2020-01-10</td>\n",
       "      <td>1</td>\n",
       "      <td>-9</td>\n",
       "      <td>0.2</td>\n",
       "      <td>3.4</td>\n",
       "      <td>1</td>\n",
       "      <td>1</td>\n",
       "      <td>100</td>\n",
       "      <td>-3</td>\n",
       "      <td>-6</td>\n",
       "      <td>...</td>\n",
       "      <td>-6</td>\n",
       "      <td>20</td>\n",
       "      <td>92</td>\n",
       "      <td>92</td>\n",
       "      <td>1.6</td>\n",
       "      <td>1025</td>\n",
       "      <td>1</td>\n",
       "      <td>4</td>\n",
       "      <td>185</td>\n",
       "      <td>12</td>\n",
       "    </tr>\n",
       "    <tr>\n",
       "      <td>2811</td>\n",
       "      <td>2020-01-11</td>\n",
       "      <td>5</td>\n",
       "      <td>-4</td>\n",
       "      <td>10.0</td>\n",
       "      <td>3.4</td>\n",
       "      <td>1</td>\n",
       "      <td>1</td>\n",
       "      <td>100</td>\n",
       "      <td>2</td>\n",
       "      <td>-2</td>\n",
       "      <td>...</td>\n",
       "      <td>-2</td>\n",
       "      <td>26</td>\n",
       "      <td>100</td>\n",
       "      <td>99</td>\n",
       "      <td>56.6</td>\n",
       "      <td>1015</td>\n",
       "      <td>5</td>\n",
       "      <td>5</td>\n",
       "      <td>142</td>\n",
       "      <td>15</td>\n",
       "    </tr>\n",
       "    <tr>\n",
       "      <td>0</td>\n",
       "      <td>2020-01-12</td>\n",
       "      <td>-8</td>\n",
       "      <td>-16</td>\n",
       "      <td>44.6</td>\n",
       "      <td>3.4</td>\n",
       "      <td>1</td>\n",
       "      <td>1</td>\n",
       "      <td>83</td>\n",
       "      <td>-11</td>\n",
       "      <td>-17</td>\n",
       "      <td>...</td>\n",
       "      <td>-17</td>\n",
       "      <td>31</td>\n",
       "      <td>93</td>\n",
       "      <td>92</td>\n",
       "      <td>52.2</td>\n",
       "      <td>1019</td>\n",
       "      <td>-8</td>\n",
       "      <td>5</td>\n",
       "      <td>226</td>\n",
       "      <td>21</td>\n",
       "    </tr>\n",
       "    <tr>\n",
       "      <td>1</td>\n",
       "      <td>2020-01-13</td>\n",
       "      <td>-11</td>\n",
       "      <td>-19</td>\n",
       "      <td>0.4</td>\n",
       "      <td>3.4</td>\n",
       "      <td>1</td>\n",
       "      <td>1</td>\n",
       "      <td>76</td>\n",
       "      <td>-15</td>\n",
       "      <td>-20</td>\n",
       "      <td>...</td>\n",
       "      <td>-20</td>\n",
       "      <td>15</td>\n",
       "      <td>70</td>\n",
       "      <td>95</td>\n",
       "      <td>0.5</td>\n",
       "      <td>1032</td>\n",
       "      <td>-11</td>\n",
       "      <td>6</td>\n",
       "      <td>29</td>\n",
       "      <td>9</td>\n",
       "    </tr>\n",
       "    <tr>\n",
       "      <td>2</td>\n",
       "      <td>2020-01-14</td>\n",
       "      <td>-11</td>\n",
       "      <td>-19</td>\n",
       "      <td>2.0</td>\n",
       "      <td>3.4</td>\n",
       "      <td>1</td>\n",
       "      <td>1</td>\n",
       "      <td>69</td>\n",
       "      <td>-13</td>\n",
       "      <td>-19</td>\n",
       "      <td>...</td>\n",
       "      <td>-19</td>\n",
       "      <td>18</td>\n",
       "      <td>95</td>\n",
       "      <td>96</td>\n",
       "      <td>3.1</td>\n",
       "      <td>1025</td>\n",
       "      <td>-11</td>\n",
       "      <td>7</td>\n",
       "      <td>42</td>\n",
       "      <td>11</td>\n",
       "    </tr>\n",
       "  </tbody>\n",
       "</table>\n",
       "<p>14 rows × 21 columns</p>\n",
       "</div>"
      ],
      "text/plain": [
       "             ds  maxtempC  mintempC  totalSnow_cm  sunHour  uvIndex  \\\n",
       "2801 2020-01-01        -1        -6           6.7      3.3        1   \n",
       "2802 2020-01-02         1        -4           0.3      3.3        1   \n",
       "2803 2020-01-03         2         1           0.0      3.3        1   \n",
       "2804 2020-01-04        -2        -7           0.9      3.3        1   \n",
       "2805 2020-01-05        -6       -10           1.3      6.9        1   \n",
       "2806 2020-01-06        -2       -11           6.2      3.3        1   \n",
       "2807 2020-01-07        -6       -13           0.4      6.9        1   \n",
       "2808 2020-01-08        -1       -12           3.9      3.4        1   \n",
       "2809 2020-01-09       -13       -17           0.0      6.9        1   \n",
       "2810 2020-01-10         1        -9           0.2      3.4        1   \n",
       "2811 2020-01-11         5        -4          10.0      3.4        1   \n",
       "0    2020-01-12        -8       -16          44.6      3.4        1   \n",
       "1    2020-01-13       -11       -19           0.4      3.4        1   \n",
       "2    2020-01-14       -11       -19           2.0      3.4        1   \n",
       "\n",
       "      uvIndex.1  moon_illumination  DewPointC  FeelsLikeC  ...  WindChillC  \\\n",
       "2801          1                 37         -3          -7  ...          -7   \n",
       "2802          1                 44         -2          -5  ...          -5   \n",
       "2803          1                 51          1          -1  ...          -1   \n",
       "2804          1                 59         -4          -6  ...          -6   \n",
       "2805          1                 66         -8         -11  ...         -11   \n",
       "2806          1                 73         -8         -11  ...         -11   \n",
       "2807          1                 80         -8         -12  ...         -12   \n",
       "2808          1                 88         -6          -8  ...          -8   \n",
       "2809          1                 95        -16         -20  ...         -20   \n",
       "2810          1                100         -3          -6  ...          -6   \n",
       "2811          1                100          2          -2  ...          -2   \n",
       "0             1                 83        -11         -17  ...         -17   \n",
       "1             1                 76        -15         -20  ...         -20   \n",
       "2             1                 69        -13         -19  ...         -19   \n",
       "\n",
       "      WindGustKmph  cloudcover  humidity  precipMM  pressure  tempC  \\\n",
       "2801            25          80        91       5.8      1000     -1   \n",
       "2802            19          90        92       0.5      1007      1   \n",
       "2803            18          99        98       0.0      1006      2   \n",
       "2804            13          84        91       1.6      1007     -2   \n",
       "2805            15          49        87       1.1      1009     -6   \n",
       "2806            12          95        94       7.5      1010     -2   \n",
       "2807            19          62        87       1.2      1014     -6   \n",
       "2808            25          88        88       5.1      1011     -1   \n",
       "2809            17          44        87       0.0      1037    -13   \n",
       "2810            20          92        92       1.6      1025      1   \n",
       "2811            26         100        99      56.6      1015      5   \n",
       "0               31          93        92      52.2      1019     -8   \n",
       "1               15          70        95       0.5      1032    -11   \n",
       "2               18          95        96       3.1      1025    -11   \n",
       "\n",
       "      visibility  winddirDegree  windspeedKmph  \n",
       "2801           6            265             15  \n",
       "2802           9            189             11  \n",
       "2803           2            231             10  \n",
       "2804           7             34              8  \n",
       "2805           9            289             10  \n",
       "2806           6            159              8  \n",
       "2807           9            214             11  \n",
       "2808           5            269             16  \n",
       "2809          10            204             11  \n",
       "2810           4            185             12  \n",
       "2811           5            142             15  \n",
       "0              5            226             21  \n",
       "1              6             29              9  \n",
       "2              7             42             11  \n",
       "\n",
       "[14 rows x 21 columns]"
      ]
     },
     "execution_count": 62,
     "metadata": {},
     "output_type": "execute_result"
    }
   ],
   "source": [
    "#Concatenate the old weather data with the missing weather data\n",
    "final_weather_df = pd.concat([weather_df, missing_weather_df])\n",
    "final_weather_df.tail(14)"
   ]
  },
  {
   "cell_type": "code",
   "execution_count": 63,
   "metadata": {},
   "outputs": [
    {
     "name": "stdout",
     "output_type": "stream",
     "text": [
      "['maxtempC', 'mintempC', 'totalSnow_cm', 'sunHour', 'uvIndex', 'uvIndex.1', 'moon_illumination', 'DewPointC', 'FeelsLikeC', 'HeatIndexC', 'WindChillC', 'WindGustKmph', 'cloudcover', 'humidity', 'precipMM', 'pressure', 'tempC', 'visibility', 'winddirDegree', 'windspeedKmph']\n",
      "20\n"
     ]
    }
   ],
   "source": [
    "#Make a list of our weather variables\n",
    "regressors = final_weather_df.columns.to_list()\n",
    "regressors.remove('ds')\n",
    "print(regressors)\n",
    "print(len(regressors))"
   ]
  },
  {
   "cell_type": "code",
   "execution_count": 64,
   "metadata": {},
   "outputs": [
    {
     "data": {
      "text/html": [
       "<div>\n",
       "<style scoped>\n",
       "    .dataframe tbody tr th:only-of-type {\n",
       "        vertical-align: middle;\n",
       "    }\n",
       "\n",
       "    .dataframe tbody tr th {\n",
       "        vertical-align: top;\n",
       "    }\n",
       "\n",
       "    .dataframe thead th {\n",
       "        text-align: right;\n",
       "    }\n",
       "</style>\n",
       "<table border=\"1\" class=\"dataframe\">\n",
       "  <thead>\n",
       "    <tr style=\"text-align: right;\">\n",
       "      <th></th>\n",
       "      <th>ds</th>\n",
       "      <th>y</th>\n",
       "      <th>maxtempC</th>\n",
       "      <th>mintempC</th>\n",
       "      <th>totalSnow_cm</th>\n",
       "      <th>sunHour</th>\n",
       "      <th>uvIndex</th>\n",
       "      <th>uvIndex.1</th>\n",
       "      <th>moon_illumination</th>\n",
       "      <th>DewPointC</th>\n",
       "      <th>...</th>\n",
       "      <th>WindChillC</th>\n",
       "      <th>WindGustKmph</th>\n",
       "      <th>cloudcover</th>\n",
       "      <th>humidity</th>\n",
       "      <th>precipMM</th>\n",
       "      <th>pressure</th>\n",
       "      <th>tempC</th>\n",
       "      <th>visibility</th>\n",
       "      <th>winddirDegree</th>\n",
       "      <th>windspeedKmph</th>\n",
       "    </tr>\n",
       "  </thead>\n",
       "  <tbody>\n",
       "    <tr>\n",
       "      <td>2806</td>\n",
       "      <td>2020-01-07</td>\n",
       "      <td>314</td>\n",
       "      <td>-6</td>\n",
       "      <td>-13</td>\n",
       "      <td>0.4</td>\n",
       "      <td>6.9</td>\n",
       "      <td>1</td>\n",
       "      <td>1</td>\n",
       "      <td>80</td>\n",
       "      <td>-8</td>\n",
       "      <td>...</td>\n",
       "      <td>-12</td>\n",
       "      <td>19</td>\n",
       "      <td>62</td>\n",
       "      <td>87</td>\n",
       "      <td>1.2</td>\n",
       "      <td>1014</td>\n",
       "      <td>-6</td>\n",
       "      <td>9</td>\n",
       "      <td>214</td>\n",
       "      <td>11</td>\n",
       "    </tr>\n",
       "    <tr>\n",
       "      <td>2807</td>\n",
       "      <td>2020-01-08</td>\n",
       "      <td>259</td>\n",
       "      <td>-1</td>\n",
       "      <td>-12</td>\n",
       "      <td>3.9</td>\n",
       "      <td>3.4</td>\n",
       "      <td>1</td>\n",
       "      <td>1</td>\n",
       "      <td>88</td>\n",
       "      <td>-6</td>\n",
       "      <td>...</td>\n",
       "      <td>-8</td>\n",
       "      <td>25</td>\n",
       "      <td>88</td>\n",
       "      <td>88</td>\n",
       "      <td>5.1</td>\n",
       "      <td>1011</td>\n",
       "      <td>-1</td>\n",
       "      <td>5</td>\n",
       "      <td>269</td>\n",
       "      <td>16</td>\n",
       "    </tr>\n",
       "    <tr>\n",
       "      <td>2808</td>\n",
       "      <td>2020-01-09</td>\n",
       "      <td>241</td>\n",
       "      <td>-13</td>\n",
       "      <td>-17</td>\n",
       "      <td>0.0</td>\n",
       "      <td>6.9</td>\n",
       "      <td>1</td>\n",
       "      <td>1</td>\n",
       "      <td>95</td>\n",
       "      <td>-16</td>\n",
       "      <td>...</td>\n",
       "      <td>-20</td>\n",
       "      <td>17</td>\n",
       "      <td>44</td>\n",
       "      <td>87</td>\n",
       "      <td>0.0</td>\n",
       "      <td>1037</td>\n",
       "      <td>-13</td>\n",
       "      <td>10</td>\n",
       "      <td>204</td>\n",
       "      <td>11</td>\n",
       "    </tr>\n",
       "    <tr>\n",
       "      <td>2809</td>\n",
       "      <td>2020-01-10</td>\n",
       "      <td>239</td>\n",
       "      <td>1</td>\n",
       "      <td>-9</td>\n",
       "      <td>0.2</td>\n",
       "      <td>3.4</td>\n",
       "      <td>1</td>\n",
       "      <td>1</td>\n",
       "      <td>100</td>\n",
       "      <td>-3</td>\n",
       "      <td>...</td>\n",
       "      <td>-6</td>\n",
       "      <td>20</td>\n",
       "      <td>92</td>\n",
       "      <td>92</td>\n",
       "      <td>1.6</td>\n",
       "      <td>1025</td>\n",
       "      <td>1</td>\n",
       "      <td>4</td>\n",
       "      <td>185</td>\n",
       "      <td>12</td>\n",
       "    </tr>\n",
       "    <tr>\n",
       "      <td>2810</td>\n",
       "      <td>2020-01-11</td>\n",
       "      <td>171</td>\n",
       "      <td>5</td>\n",
       "      <td>-4</td>\n",
       "      <td>10.0</td>\n",
       "      <td>3.4</td>\n",
       "      <td>1</td>\n",
       "      <td>1</td>\n",
       "      <td>100</td>\n",
       "      <td>2</td>\n",
       "      <td>...</td>\n",
       "      <td>-2</td>\n",
       "      <td>26</td>\n",
       "      <td>100</td>\n",
       "      <td>99</td>\n",
       "      <td>56.6</td>\n",
       "      <td>1015</td>\n",
       "      <td>5</td>\n",
       "      <td>5</td>\n",
       "      <td>142</td>\n",
       "      <td>15</td>\n",
       "    </tr>\n",
       "  </tbody>\n",
       "</table>\n",
       "<p>5 rows × 22 columns</p>\n",
       "</div>"
      ],
      "text/plain": [
       "             ds    y  maxtempC  mintempC  totalSnow_cm  sunHour  uvIndex  \\\n",
       "2806 2020-01-07  314        -6       -13           0.4      6.9        1   \n",
       "2807 2020-01-08  259        -1       -12           3.9      3.4        1   \n",
       "2808 2020-01-09  241       -13       -17           0.0      6.9        1   \n",
       "2809 2020-01-10  239         1        -9           0.2      3.4        1   \n",
       "2810 2020-01-11  171         5        -4          10.0      3.4        1   \n",
       "\n",
       "      uvIndex.1  moon_illumination  DewPointC  ...  WindChillC  WindGustKmph  \\\n",
       "2806          1                 80         -8  ...         -12            19   \n",
       "2807          1                 88         -6  ...          -8            25   \n",
       "2808          1                 95        -16  ...         -20            17   \n",
       "2809          1                100         -3  ...          -6            20   \n",
       "2810          1                100          2  ...          -2            26   \n",
       "\n",
       "      cloudcover  humidity  precipMM  pressure  tempC  visibility  \\\n",
       "2806          62        87       1.2      1014     -6           9   \n",
       "2807          88        88       5.1      1011     -1           5   \n",
       "2808          44        87       0.0      1037    -13          10   \n",
       "2809          92        92       1.6      1025      1           4   \n",
       "2810         100        99      56.6      1015      5           5   \n",
       "\n",
       "      winddirDegree  windspeedKmph  \n",
       "2806            214             11  \n",
       "2807            269             16  \n",
       "2808            204             11  \n",
       "2809            185             12  \n",
       "2810            142             15  \n",
       "\n",
       "[5 rows x 22 columns]"
      ]
     },
     "execution_count": 64,
     "metadata": {},
     "output_type": "execute_result"
    }
   ],
   "source": [
    "#Some final formatting our our data to be able to merge it with the weather data\n",
    "df.ds = pd.to_datetime(df.ds)\n",
    "final_df = pd.merge(df, final_weather_df, on='ds')\n",
    "final_df.tail()"
   ]
  },
  {
   "cell_type": "code",
   "execution_count": 65,
   "metadata": {},
   "outputs": [
    {
     "name": "stderr",
     "output_type": "stream",
     "text": [
      "INFO:fbprophet:Disabling daily seasonality. Run prophet with daily_seasonality=True to override this.\n",
      "/anaconda3/envs/prophet/lib/python3.7/site-packages/pystan/misc.py:399: FutureWarning:\n",
      "\n",
      "Conversion of the second argument of issubdtype from `float` to `np.floating` is deprecated. In future, it will be treated as `np.float64 == np.dtype(float).type`.\n",
      "\n"
     ]
    },
    {
     "data": {
      "text/plain": [
       "<fbprophet.forecaster.Prophet at 0x130ce8210>"
      ]
     },
     "execution_count": 65,
     "metadata": {},
     "output_type": "execute_result"
    }
   ],
   "source": [
    "#Instantiate our model with our stat day and hockey variables saved in the 'holidays' dataframe\n",
    "m = Prophet(holidays=holidays)\n",
    "#Add Prophet's built-in holidays for Canada\n",
    "m.add_country_holidays(country_name='CA')\n",
    "#Add our 20 weather variables as regressors\n",
    "for regressor in regressors:\n",
    "  m.add_regressor(regressor)\n",
    "#Fit our model to our data\n",
    "m.fit(final_df)\n",
    "#Fit our model to data from before 2019\n",
    "#m.fit(final_df[final_df.ds<'2019-01-01'])"
   ]
  },
  {
   "cell_type": "code",
   "execution_count": 66,
   "metadata": {},
   "outputs": [
    {
     "name": "stdout",
     "output_type": "stream",
     "text": [
      "             ds        yhat  yhat_lower  yhat_upper\n",
      "2810 2020-01-10  272.578058  252.710065  292.930718\n",
      "2811 2020-01-11  215.329143  194.855167  234.367923\n",
      "2812 2020-01-12  156.001755  133.158782  175.446690\n",
      "2813 2020-01-13  288.518507  267.442517  309.164552\n",
      "2814 2020-01-14  262.179196  241.938761  282.735051\n"
     ]
    }
   ],
   "source": [
    "forecast = m.predict(final_weather_df)\n",
    "print(forecast[['ds', 'yhat', 'yhat_lower', 'yhat_upper']].tail())"
   ]
  },
  {
   "cell_type": "code",
   "execution_count": 67,
   "metadata": {},
   "outputs": [
    {
     "data": {
      "image/png": "[encoded data removed]",
      "text/plain": [
       "<Figure size 720x432 with 1 Axes>"
      ]
     },
     "metadata": {},
     "output_type": "display_data"
    }
   ],
   "source": [
    "fig1 = m.plot(forecast)"
   ]
  },
  {
   "cell_type": "code",
   "execution_count": 68,
   "metadata": {},
   "outputs": [
    {
     "data": {
      "image/png": "[encoded data removed]",
      "text/plain": [
       "<Figure size 648x1080 with 5 Axes>"
      ]
     },
     "metadata": {},
     "output_type": "display_data"
    }
   ],
   "source": [
    "fig2 = m.plot_components(forecast)"
   ]
  },
  {
   "cell_type": "code",
   "execution_count": 16,
   "metadata": {},
   "outputs": [],
   "source": [
    "import pickle\n",
    "pkl_path = \"jgh-prophet-20-01-12.pkl\"\n",
    "with open(pkl_path, \"wb\") as f:\n",
    "    # Pickle the 'Prophet' model using the highest protocol available.\n",
    "    pickle.dump(m, f)"
   ]
  },
  {
   "cell_type": "code",
   "execution_count": 17,
   "metadata": {},
   "outputs": [],
   "source": [
    "# read the Prophet model object\n",
    "with open(pkl_path, 'rb') as f:\n",
    "    m = pickle.load(f)"
   ]
  },
  {
   "cell_type": "code",
   "execution_count": 69,
   "metadata": {},
   "outputs": [
    {
     "data": {
      "application/vnd.plotly.v1+json": {
       "config": {
        "plotlyServerURL": "https://plot.ly"
       },
       "data": [
        {
         "mode": "lines+markers",
         "name": "predictions",
         "type": "scatter",
         "x": [
          "2019-12-13 00:00:00",
          "2019-12-14 00:00:00",
          "2019-12-15 00:00:00",
          "2019-12-16 00:00:00",
          "2019-12-17 00:00:00",
          "2019-12-18 00:00:00",
          "2019-12-19 00:00:00",
          "2019-12-20 00:00:00",
          "2019-12-21 00:00:00",
          "2019-12-22 00:00:00",
          "2019-12-23 00:00:00",
          "2019-12-24 00:00:00",
          "2019-12-25 00:00:00",
          "2019-12-26 00:00:00",
          "2019-12-27 00:00:00",
          "2019-12-28 00:00:00",
          "2019-12-29 00:00:00",
          "2019-12-30 00:00:00",
          "2019-12-31 00:00:00",
          "2020-01-01 00:00:00",
          "2020-01-02 00:00:00",
          "2020-01-03 00:00:00",
          "2020-01-04 00:00:00",
          "2020-01-05 00:00:00",
          "2020-01-06 00:00:00",
          "2020-01-07 00:00:00",
          "2020-01-08 00:00:00",
          "2020-01-09 00:00:00",
          "2020-01-10 00:00:00",
          "2020-01-11 00:00:00",
          "2020-01-12 00:00:00",
          "2020-01-13 00:00:00",
          "2020-01-14 00:00:00"
         ],
         "y": [
          262.8559553479004,
          224.67625821171873,
          211.76234312115488,
          295.0001125499032,
          267.36831693026,
          259.4278599836883,
          250.59362877596658,
          263.46879365561233,
          227.09726829030492,
          238.3118083202077,
          309.2866439530129,
          268.69152817897293,
          201.77593942871113,
          266.3184059958293,
          297.1980325353351,
          244.70544588710302,
          243.6807770985842,
          283.7456236225564,
          241.6901424146262,
          229.74701029259012,
          281.5042830112459,
          293.9568718198116,
          242.02124540698557,
          243.66270510988113,
          296.854985609852,
          285.05061441953677,
          266.20190568460544,
          260.0722267806487,
          272.57805752339755,
          215.3291431200983,
          156.0017551171635,
          288.51850710904756,
          262.1791958123132
         ]
        },
        {
         "mode": "lines+markers",
         "name": "reality",
         "type": "scatter",
         "x": [
          "2019-12-13 00:00:00",
          "2019-12-14 00:00:00",
          "2019-12-15 00:00:00",
          "2019-12-16 00:00:00",
          "2019-12-17 00:00:00",
          "2019-12-18 00:00:00",
          "2019-12-19 00:00:00",
          "2019-12-20 00:00:00",
          "2019-12-21 00:00:00",
          "2019-12-22 00:00:00",
          "2019-12-23 00:00:00",
          "2019-12-24 00:00:00",
          "2019-12-25 00:00:00",
          "2019-12-26 00:00:00",
          "2019-12-27 00:00:00",
          "2019-12-28 00:00:00",
          "2019-12-29 00:00:00",
          "2019-12-30 00:00:00",
          "2019-12-31 00:00:00",
          "2020-01-01 00:00:00",
          "2020-01-02 00:00:00",
          "2020-01-03 00:00:00",
          "2020-01-04 00:00:00",
          "2020-01-05 00:00:00",
          "2020-01-06 00:00:00",
          "2020-01-07 00:00:00",
          "2020-01-08 00:00:00",
          "2020-01-09 00:00:00",
          "2020-01-10 00:00:00",
          "2020-01-11 00:00:00"
         ],
         "y": [
          258,
          249,
          197,
          241,
          223,
          214,
          316,
          291,
          289,
          242,
          261,
          227,
          222,
          283,
          223,
          179,
          253,
          286,
          236,
          263,
          297,
          219,
          209,
          331,
          330,
          253,
          252,
          326,
          314,
          259,
          241,
          239,
          171
         ]
        }
       ],
       "layout": {
        "template": {
         "data": {
          "bar": [
           {
            "error_x": {
             "color": "#2a3f5f"
            },
            "error_y": {
             "color": "#2a3f5f"
            },
            "marker": {
             "line": {
              "color": "#E5ECF6",
              "width": 0.5
             }
            },
            "type": "bar"
           }
          ],
          "barpolar": [
           {
            "marker": {
             "line": {
              "color": "#E5ECF6",
              "width": 0.5
             }
            },
            "type": "barpolar"
           }
          ],
          "carpet": [
           {
            "aaxis": {
             "endlinecolor": "#2a3f5f",
             "gridcolor": "white",
             "linecolor": "white",
             "minorgridcolor": "white",
             "startlinecolor": "#2a3f5f"
            },
            "baxis": {
             "endlinecolor": "#2a3f5f",
             "gridcolor": "white",
             "linecolor": "white",
             "minorgridcolor": "white",
             "startlinecolor": "#2a3f5f"
            },
            "type": "carpet"
           }
          ],
          "choropleth": [
           {
            "colorbar": {
             "outlinewidth": 0,
             "ticks": ""
            },
            "type": "choropleth"
           }
          ],
          "contour": [
           {
            "colorbar": {
             "outlinewidth": 0,
             "ticks": ""
            },
            "colorscale": [
             [
              0,
              "#0d0887"
             ],
             [
              0.1111111111111111,
              "#46039f"
             ],
             [
              0.2222222222222222,
              "#7201a8"
             ],
             [
              0.3333333333333333,
              "#9c179e"
             ],
             [
              0.4444444444444444,
              "#bd3786"
             ],
             [
              0.5555555555555556,
              "#d8576b"
             ],
             [
              0.6666666666666666,
              "#ed7953"
             ],
             [
              0.7777777777777778,
              "#fb9f3a"
             ],
             [
              0.8888888888888888,
              "#fdca26"
             ],
             [
              1,
              "#f0f921"
             ]
            ],
            "type": "contour"
           }
          ],
          "contourcarpet": [
           {
            "colorbar": {
             "outlinewidth": 0,
             "ticks": ""
            },
            "type": "contourcarpet"
           }
          ],
          "heatmap": [
           {
            "colorbar": {
             "outlinewidth": 0,
             "ticks": ""
            },
            "colorscale": [
             [
              0,
              "#0d0887"
             ],
             [
              0.1111111111111111,
              "#46039f"
             ],
             [
              0.2222222222222222,
              "#7201a8"
             ],
             [
              0.3333333333333333,
              "#9c179e"
             ],
             [
              0.4444444444444444,
              "#bd3786"
             ],
             [
              0.5555555555555556,
              "#d8576b"
             ],
             [
              0.6666666666666666,
              "#ed7953"
             ],
             [
              0.7777777777777778,
              "#fb9f3a"
             ],
             [
              0.8888888888888888,
              "#fdca26"
             ],
             [
              1,
              "#f0f921"
             ]
            ],
            "type": "heatmap"
           }
          ],
          "heatmapgl": [
           {
            "colorbar": {
             "outlinewidth": 0,
             "ticks": ""
            },
            "colorscale": [
             [
              0,
              "#0d0887"
             ],
             [
              0.1111111111111111,
              "#46039f"
             ],
             [
              0.2222222222222222,
              "#7201a8"
             ],
             [
              0.3333333333333333,
              "#9c179e"
             ],
             [
              0.4444444444444444,
              "#bd3786"
             ],
             [
              0.5555555555555556,
              "#d8576b"
             ],
             [
              0.6666666666666666,
              "#ed7953"
             ],
             [
              0.7777777777777778,
              "#fb9f3a"
             ],
             [
              0.8888888888888888,
              "#fdca26"
             ],
             [
              1,
              "#f0f921"
             ]
            ],
            "type": "heatmapgl"
           }
          ],
          "histogram": [
           {
            "marker": {
             "colorbar": {
              "outlinewidth": 0,
              "ticks": ""
             }
            },
            "type": "histogram"
           }
          ],
          "histogram2d": [
           {
            "colorbar": {
             "outlinewidth": 0,
             "ticks": ""
            },
            "colorscale": [
             [
              0,
              "#0d0887"
             ],
             [
              0.1111111111111111,
              "#46039f"
             ],
             [
              0.2222222222222222,
              "#7201a8"
             ],
             [
              0.3333333333333333,
              "#9c179e"
             ],
             [
              0.4444444444444444,
              "#bd3786"
             ],
             [
              0.5555555555555556,
              "#d8576b"
             ],
             [
              0.6666666666666666,
              "#ed7953"
             ],
             [
              0.7777777777777778,
              "#fb9f3a"
             ],
             [
              0.8888888888888888,
              "#fdca26"
             ],
             [
              1,
              "#f0f921"
             ]
            ],
            "type": "histogram2d"
           }
          ],
          "histogram2dcontour": [
           {
            "colorbar": {
             "outlinewidth": 0,
             "ticks": ""
            },
            "colorscale": [
             [
              0,
              "#0d0887"
             ],
             [
              0.1111111111111111,
              "#46039f"
             ],
             [
              0.2222222222222222,
              "#7201a8"
             ],
             [
              0.3333333333333333,
              "#9c179e"
             ],
             [
              0.4444444444444444,
              "#bd3786"
             ],
             [
              0.5555555555555556,
              "#d8576b"
             ],
             [
              0.6666666666666666,
              "#ed7953"
             ],
             [
              0.7777777777777778,
              "#fb9f3a"
             ],
             [
              0.8888888888888888,
              "#fdca26"
             ],
             [
              1,
              "#f0f921"
             ]
            ],
            "type": "histogram2dcontour"
           }
          ],
          "mesh3d": [
           {
            "colorbar": {
             "outlinewidth": 0,
             "ticks": ""
            },
            "type": "mesh3d"
           }
          ],
          "parcoords": [
           {
            "line": {
             "colorbar": {
              "outlinewidth": 0,
              "ticks": ""
             }
            },
            "type": "parcoords"
           }
          ],
          "pie": [
           {
            "automargin": true,
            "type": "pie"
           }
          ],
          "scatter": [
           {
            "marker": {
             "colorbar": {
              "outlinewidth": 0,
              "ticks": ""
             }
            },
            "type": "scatter"
           }
          ],
          "scatter3d": [
           {
            "line": {
             "colorbar": {
              "outlinewidth": 0,
              "ticks": ""
             }
            },
            "marker": {
             "colorbar": {
              "outlinewidth": 0,
              "ticks": ""
             }
            },
            "type": "scatter3d"
           }
          ],
          "scattercarpet": [
           {
            "marker": {
             "colorbar": {
              "outlinewidth": 0,
              "ticks": ""
             }
            },
            "type": "scattercarpet"
           }
          ],
          "scattergeo": [
           {
            "marker": {
             "colorbar": {
              "outlinewidth": 0,
              "ticks": ""
             }
            },
            "type": "scattergeo"
           }
          ],
          "scattergl": [
           {
            "marker": {
             "colorbar": {
              "outlinewidth": 0,
              "ticks": ""
             }
            },
            "type": "scattergl"
           }
          ],
          "scattermapbox": [
           {
            "marker": {
             "colorbar": {
              "outlinewidth": 0,
              "ticks": ""
             }
            },
            "type": "scattermapbox"
           }
          ],
          "scatterpolar": [
           {
            "marker": {
             "colorbar": {
              "outlinewidth": 0,
              "ticks": ""
             }
            },
            "type": "scatterpolar"
           }
          ],
          "scatterpolargl": [
           {
            "marker": {
             "colorbar": {
              "outlinewidth": 0,
              "ticks": ""
             }
            },
            "type": "scatterpolargl"
           }
          ],
          "scatterternary": [
           {
            "marker": {
             "colorbar": {
              "outlinewidth": 0,
              "ticks": ""
             }
            },
            "type": "scatterternary"
           }
          ],
          "surface": [
           {
            "colorbar": {
             "outlinewidth": 0,
             "ticks": ""
            },
            "colorscale": [
             [
              0,
              "#0d0887"
             ],
             [
              0.1111111111111111,
              "#46039f"
             ],
             [
              0.2222222222222222,
              "#7201a8"
             ],
             [
              0.3333333333333333,
              "#9c179e"
             ],
             [
              0.4444444444444444,
              "#bd3786"
             ],
             [
              0.5555555555555556,
              "#d8576b"
             ],
             [
              0.6666666666666666,
              "#ed7953"
             ],
             [
              0.7777777777777778,
              "#fb9f3a"
             ],
             [
              0.8888888888888888,
              "#fdca26"
             ],
             [
              1,
              "#f0f921"
             ]
            ],
            "type": "surface"
           }
          ],
          "table": [
           {
            "cells": {
             "fill": {
              "color": "#EBF0F8"
             },
             "line": {
              "color": "white"
             }
            },
            "header": {
             "fill": {
              "color": "#C8D4E3"
             },
             "line": {
              "color": "white"
             }
            },
            "type": "table"
           }
          ]
         },
         "layout": {
          "annotationdefaults": {
           "arrowcolor": "#2a3f5f",
           "arrowhead": 0,
           "arrowwidth": 1
          },
          "coloraxis": {
           "colorbar": {
            "outlinewidth": 0,
            "ticks": ""
           }
          },
          "colorscale": {
           "diverging": [
            [
             0,
             "#8e0152"
            ],
            [
             0.1,
             "#c51b7d"
            ],
            [
             0.2,
             "#de77ae"
            ],
            [
             0.3,
             "#f1b6da"
            ],
            [
             0.4,
             "#fde0ef"
            ],
            [
             0.5,
             "#f7f7f7"
            ],
            [
             0.6,
             "#e6f5d0"
            ],
            [
             0.7,
             "#b8e186"
            ],
            [
             0.8,
             "#7fbc41"
            ],
            [
             0.9,
             "#4d9221"
            ],
            [
             1,
             "#276419"
            ]
           ],
           "sequential": [
            [
             0,
             "#0d0887"
            ],
            [
             0.1111111111111111,
             "#46039f"
            ],
            [
             0.2222222222222222,
             "#7201a8"
            ],
            [
             0.3333333333333333,
             "#9c179e"
            ],
            [
             0.4444444444444444,
             "#bd3786"
            ],
            [
             0.5555555555555556,
             "#d8576b"
            ],
            [
             0.6666666666666666,
             "#ed7953"
            ],
            [
             0.7777777777777778,
             "#fb9f3a"
            ],
            [
             0.8888888888888888,
             "#fdca26"
            ],
            [
             1,
             "#f0f921"
            ]
           ],
           "sequentialminus": [
            [
             0,
             "#0d0887"
            ],
            [
             0.1111111111111111,
             "#46039f"
            ],
            [
             0.2222222222222222,
             "#7201a8"
            ],
            [
             0.3333333333333333,
             "#9c179e"
            ],
            [
             0.4444444444444444,
             "#bd3786"
            ],
            [
             0.5555555555555556,
             "#d8576b"
            ],
            [
             0.6666666666666666,
             "#ed7953"
            ],
            [
             0.7777777777777778,
             "#fb9f3a"
            ],
            [
             0.8888888888888888,
             "#fdca26"
            ],
            [
             1,
             "#f0f921"
            ]
           ]
          },
          "colorway": [
           "#636efa",
           "#EF553B",
           "#00cc96",
           "#ab63fa",
           "#FFA15A",
           "#19d3f3",
           "#FF6692",
           "#B6E880",
           "#FF97FF",
           "#FECB52"
          ],
          "font": {
           "color": "#2a3f5f"
          },
          "geo": {
           "bgcolor": "white",
           "lakecolor": "white",
           "landcolor": "#E5ECF6",
           "showlakes": true,
           "showland": true,
           "subunitcolor": "white"
          },
          "hoverlabel": {
           "align": "left"
          },
          "hovermode": "closest",
          "mapbox": {
           "style": "light"
          },
          "paper_bgcolor": "white",
          "plot_bgcolor": "#E5ECF6",
          "polar": {
           "angularaxis": {
            "gridcolor": "white",
            "linecolor": "white",
            "ticks": ""
           },
           "bgcolor": "#E5ECF6",
           "radialaxis": {
            "gridcolor": "white",
            "linecolor": "white",
            "ticks": ""
           }
          },
          "scene": {
           "xaxis": {
            "backgroundcolor": "#E5ECF6",
            "gridcolor": "white",
            "gridwidth": 2,
            "linecolor": "white",
            "showbackground": true,
            "ticks": "",
            "zerolinecolor": "white"
           },
           "yaxis": {
            "backgroundcolor": "#E5ECF6",
            "gridcolor": "white",
            "gridwidth": 2,
            "linecolor": "white",
            "showbackground": true,
            "ticks": "",
            "zerolinecolor": "white"
           },
           "zaxis": {
            "backgroundcolor": "#E5ECF6",
            "gridcolor": "white",
            "gridwidth": 2,
            "linecolor": "white",
            "showbackground": true,
            "ticks": "",
            "zerolinecolor": "white"
           }
          },
          "shapedefaults": {
           "line": {
            "color": "#2a3f5f"
           }
          },
          "ternary": {
           "aaxis": {
            "gridcolor": "white",
            "linecolor": "white",
            "ticks": ""
           },
           "baxis": {
            "gridcolor": "white",
            "linecolor": "white",
            "ticks": ""
           },
           "bgcolor": "#E5ECF6",
           "caxis": {
            "gridcolor": "white",
            "linecolor": "white",
            "ticks": ""
           }
          },
          "title": {
           "x": 0.05
          },
          "xaxis": {
           "automargin": true,
           "gridcolor": "white",
           "linecolor": "white",
           "ticks": "",
           "title": {
            "standoff": 15
           },
           "zerolinecolor": "white",
           "zerolinewidth": 2
          },
          "yaxis": {
           "automargin": true,
           "gridcolor": "white",
           "linecolor": "white",
           "ticks": "",
           "title": {
            "standoff": 15
           },
           "zerolinecolor": "white",
           "zerolinewidth": 2
          }
         }
        }
       }
      },
      "text/html": [
       "<div>\n",
       "        \n",
       "        \n",
       "            <div id=\"381c73a6-276d-461f-b14e-b6eb72e165f7\" class=\"plotly-graph-div\" style=\"height:525px; width:100%;\"></div>\n",
       "            <script type=\"text/javascript\">\n",
       "                require([\"plotly\"], function(Plotly) {\n",
       "                    window.PLOTLYENV=window.PLOTLYENV || {};\n",
       "                    \n",
       "                if (document.getElementById(\"381c73a6-276d-461f-b14e-b6eb72e165f7\")) {\n",
       "                    Plotly.newPlot(\n",
       "                        '381c73a6-276d-461f-b14e-b6eb72e165f7',\n",
       "                        [{\"mode\": \"lines+markers\", \"name\": \"predictions\", \"type\": \"scatter\", \"x\": [\"2019-12-13 00:00:00\", \"2019-12-14 00:00:00\", \"2019-12-15 00:00:00\", \"2019-12-16 00:00:00\", \"2019-12-17 00:00:00\", \"2019-12-18 00:00:00\", \"2019-12-19 00:00:00\", \"2019-12-20 00:00:00\", \"2019-12-21 00:00:00\", \"2019-12-22 00:00:00\", \"2019-12-23 00:00:00\", \"2019-12-24 00:00:00\", \"2019-12-25 00:00:00\", \"2019-12-26 00:00:00\", \"2019-12-27 00:00:00\", \"2019-12-28 00:00:00\", \"2019-12-29 00:00:00\", \"2019-12-30 00:00:00\", \"2019-12-31 00:00:00\", \"2020-01-01 00:00:00\", \"2020-01-02 00:00:00\", \"2020-01-03 00:00:00\", \"2020-01-04 00:00:00\", \"2020-01-05 00:00:00\", \"2020-01-06 00:00:00\", \"2020-01-07 00:00:00\", \"2020-01-08 00:00:00\", \"2020-01-09 00:00:00\", \"2020-01-10 00:00:00\", \"2020-01-11 00:00:00\", \"2020-01-12 00:00:00\", \"2020-01-13 00:00:00\", \"2020-01-14 00:00:00\"], \"y\": [262.8559553479004, 224.67625821171873, 211.76234312115488, 295.0001125499032, 267.36831693026, 259.4278599836883, 250.59362877596658, 263.46879365561233, 227.09726829030492, 238.3118083202077, 309.2866439530129, 268.69152817897293, 201.77593942871113, 266.3184059958293, 297.1980325353351, 244.70544588710302, 243.6807770985842, 283.7456236225564, 241.6901424146262, 229.74701029259012, 281.5042830112459, 293.9568718198116, 242.02124540698557, 243.66270510988113, 296.854985609852, 285.05061441953677, 266.20190568460544, 260.0722267806487, 272.57805752339755, 215.3291431200983, 156.0017551171635, 288.51850710904756, 262.1791958123132]}, {\"mode\": \"lines+markers\", \"name\": \"reality\", \"type\": \"scatter\", \"x\": [\"2019-12-13 00:00:00\", \"2019-12-14 00:00:00\", \"2019-12-15 00:00:00\", \"2019-12-16 00:00:00\", \"2019-12-17 00:00:00\", \"2019-12-18 00:00:00\", \"2019-12-19 00:00:00\", \"2019-12-20 00:00:00\", \"2019-12-21 00:00:00\", \"2019-12-22 00:00:00\", \"2019-12-23 00:00:00\", \"2019-12-24 00:00:00\", \"2019-12-25 00:00:00\", \"2019-12-26 00:00:00\", \"2019-12-27 00:00:00\", \"2019-12-28 00:00:00\", \"2019-12-29 00:00:00\", \"2019-12-30 00:00:00\", \"2019-12-31 00:00:00\", \"2020-01-01 00:00:00\", \"2020-01-02 00:00:00\", \"2020-01-03 00:00:00\", \"2020-01-04 00:00:00\", \"2020-01-05 00:00:00\", \"2020-01-06 00:00:00\", \"2020-01-07 00:00:00\", \"2020-01-08 00:00:00\", \"2020-01-09 00:00:00\", \"2020-01-10 00:00:00\", \"2020-01-11 00:00:00\"], \"y\": [258, 249, 197, 241, 223, 214, 316, 291, 289, 242, 261, 227, 222, 283, 223, 179, 253, 286, 236, 263, 297, 219, 209, 331, 330, 253, 252, 326, 314, 259, 241, 239, 171]}],\n",
       "                        {\"template\": {\"data\": {\"bar\": [{\"error_x\": {\"color\": \"#2a3f5f\"}, \"error_y\": {\"color\": \"#2a3f5f\"}, \"marker\": {\"line\": {\"color\": \"#E5ECF6\", \"width\": 0.5}}, \"type\": \"bar\"}], \"barpolar\": [{\"marker\": {\"line\": {\"color\": \"#E5ECF6\", \"width\": 0.5}}, \"type\": \"barpolar\"}], \"carpet\": [{\"aaxis\": {\"endlinecolor\": \"#2a3f5f\", \"gridcolor\": \"white\", \"linecolor\": \"white\", \"minorgridcolor\": \"white\", \"startlinecolor\": \"#2a3f5f\"}, \"baxis\": {\"endlinecolor\": \"#2a3f5f\", \"gridcolor\": \"white\", \"linecolor\": \"white\", \"minorgridcolor\": \"white\", \"startlinecolor\": \"#2a3f5f\"}, \"type\": \"carpet\"}], \"choropleth\": [{\"colorbar\": {\"outlinewidth\": 0, \"ticks\": \"\"}, \"type\": \"choropleth\"}], \"contour\": [{\"colorbar\": {\"outlinewidth\": 0, \"ticks\": \"\"}, \"colorscale\": [[0.0, \"#0d0887\"], [0.1111111111111111, \"#46039f\"], [0.2222222222222222, \"#7201a8\"], [0.3333333333333333, \"#9c179e\"], [0.4444444444444444, \"#bd3786\"], [0.5555555555555556, \"#d8576b\"], [0.6666666666666666, \"#ed7953\"], [0.7777777777777778, \"#fb9f3a\"], [0.8888888888888888, \"#fdca26\"], [1.0, \"#f0f921\"]], \"type\": \"contour\"}], \"contourcarpet\": [{\"colorbar\": {\"outlinewidth\": 0, \"ticks\": \"\"}, \"type\": \"contourcarpet\"}], \"heatmap\": [{\"colorbar\": {\"outlinewidth\": 0, \"ticks\": \"\"}, \"colorscale\": [[0.0, \"#0d0887\"], [0.1111111111111111, \"#46039f\"], [0.2222222222222222, \"#7201a8\"], [0.3333333333333333, \"#9c179e\"], [0.4444444444444444, \"#bd3786\"], [0.5555555555555556, \"#d8576b\"], [0.6666666666666666, \"#ed7953\"], [0.7777777777777778, \"#fb9f3a\"], [0.8888888888888888, \"#fdca26\"], [1.0, \"#f0f921\"]], \"type\": \"heatmap\"}], \"heatmapgl\": [{\"colorbar\": {\"outlinewidth\": 0, \"ticks\": \"\"}, \"colorscale\": [[0.0, \"#0d0887\"], [0.1111111111111111, \"#46039f\"], [0.2222222222222222, \"#7201a8\"], [0.3333333333333333, \"#9c179e\"], [0.4444444444444444, \"#bd3786\"], [0.5555555555555556, \"#d8576b\"], [0.6666666666666666, \"#ed7953\"], [0.7777777777777778, \"#fb9f3a\"], [0.8888888888888888, \"#fdca26\"], [1.0, \"#f0f921\"]], \"type\": \"heatmapgl\"}], \"histogram\": [{\"marker\": {\"colorbar\": {\"outlinewidth\": 0, \"ticks\": \"\"}}, \"type\": \"histogram\"}], \"histogram2d\": [{\"colorbar\": {\"outlinewidth\": 0, \"ticks\": \"\"}, \"colorscale\": [[0.0, \"#0d0887\"], [0.1111111111111111, \"#46039f\"], [0.2222222222222222, \"#7201a8\"], [0.3333333333333333, \"#9c179e\"], [0.4444444444444444, \"#bd3786\"], [0.5555555555555556, \"#d8576b\"], [0.6666666666666666, \"#ed7953\"], [0.7777777777777778, \"#fb9f3a\"], [0.8888888888888888, \"#fdca26\"], [1.0, \"#f0f921\"]], \"type\": \"histogram2d\"}], \"histogram2dcontour\": [{\"colorbar\": {\"outlinewidth\": 0, \"ticks\": \"\"}, \"colorscale\": [[0.0, \"#0d0887\"], [0.1111111111111111, \"#46039f\"], [0.2222222222222222, \"#7201a8\"], [0.3333333333333333, \"#9c179e\"], [0.4444444444444444, \"#bd3786\"], [0.5555555555555556, \"#d8576b\"], [0.6666666666666666, \"#ed7953\"], [0.7777777777777778, \"#fb9f3a\"], [0.8888888888888888, \"#fdca26\"], [1.0, \"#f0f921\"]], \"type\": \"histogram2dcontour\"}], \"mesh3d\": [{\"colorbar\": {\"outlinewidth\": 0, \"ticks\": \"\"}, \"type\": \"mesh3d\"}], \"parcoords\": [{\"line\": {\"colorbar\": {\"outlinewidth\": 0, \"ticks\": \"\"}}, \"type\": \"parcoords\"}], \"pie\": [{\"automargin\": true, \"type\": \"pie\"}], \"scatter\": [{\"marker\": {\"colorbar\": {\"outlinewidth\": 0, \"ticks\": \"\"}}, \"type\": \"scatter\"}], \"scatter3d\": [{\"line\": {\"colorbar\": {\"outlinewidth\": 0, \"ticks\": \"\"}}, \"marker\": {\"colorbar\": {\"outlinewidth\": 0, \"ticks\": \"\"}}, \"type\": \"scatter3d\"}], \"scattercarpet\": [{\"marker\": {\"colorbar\": {\"outlinewidth\": 0, \"ticks\": \"\"}}, \"type\": \"scattercarpet\"}], \"scattergeo\": [{\"marker\": {\"colorbar\": {\"outlinewidth\": 0, \"ticks\": \"\"}}, \"type\": \"scattergeo\"}], \"scattergl\": [{\"marker\": {\"colorbar\": {\"outlinewidth\": 0, \"ticks\": \"\"}}, \"type\": \"scattergl\"}], \"scattermapbox\": [{\"marker\": {\"colorbar\": {\"outlinewidth\": 0, \"ticks\": \"\"}}, \"type\": \"scattermapbox\"}], \"scatterpolar\": [{\"marker\": {\"colorbar\": {\"outlinewidth\": 0, \"ticks\": \"\"}}, \"type\": \"scatterpolar\"}], \"scatterpolargl\": [{\"marker\": {\"colorbar\": {\"outlinewidth\": 0, \"ticks\": \"\"}}, \"type\": \"scatterpolargl\"}], \"scatterternary\": [{\"marker\": {\"colorbar\": {\"outlinewidth\": 0, \"ticks\": \"\"}}, \"type\": \"scatterternary\"}], \"surface\": [{\"colorbar\": {\"outlinewidth\": 0, \"ticks\": \"\"}, \"colorscale\": [[0.0, \"#0d0887\"], [0.1111111111111111, \"#46039f\"], [0.2222222222222222, \"#7201a8\"], [0.3333333333333333, \"#9c179e\"], [0.4444444444444444, \"#bd3786\"], [0.5555555555555556, \"#d8576b\"], [0.6666666666666666, \"#ed7953\"], [0.7777777777777778, \"#fb9f3a\"], [0.8888888888888888, \"#fdca26\"], [1.0, \"#f0f921\"]], \"type\": \"surface\"}], \"table\": [{\"cells\": {\"fill\": {\"color\": \"#EBF0F8\"}, \"line\": {\"color\": \"white\"}}, \"header\": {\"fill\": {\"color\": \"#C8D4E3\"}, \"line\": {\"color\": \"white\"}}, \"type\": \"table\"}]}, \"layout\": {\"annotationdefaults\": {\"arrowcolor\": \"#2a3f5f\", \"arrowhead\": 0, \"arrowwidth\": 1}, \"coloraxis\": {\"colorbar\": {\"outlinewidth\": 0, \"ticks\": \"\"}}, \"colorscale\": {\"diverging\": [[0, \"#8e0152\"], [0.1, \"#c51b7d\"], [0.2, \"#de77ae\"], [0.3, \"#f1b6da\"], [0.4, \"#fde0ef\"], [0.5, \"#f7f7f7\"], [0.6, \"#e6f5d0\"], [0.7, \"#b8e186\"], [0.8, \"#7fbc41\"], [0.9, \"#4d9221\"], [1, \"#276419\"]], \"sequential\": [[0.0, \"#0d0887\"], [0.1111111111111111, \"#46039f\"], [0.2222222222222222, \"#7201a8\"], [0.3333333333333333, \"#9c179e\"], [0.4444444444444444, \"#bd3786\"], [0.5555555555555556, \"#d8576b\"], [0.6666666666666666, \"#ed7953\"], [0.7777777777777778, \"#fb9f3a\"], [0.8888888888888888, \"#fdca26\"], [1.0, \"#f0f921\"]], \"sequentialminus\": [[0.0, \"#0d0887\"], [0.1111111111111111, \"#46039f\"], [0.2222222222222222, \"#7201a8\"], [0.3333333333333333, \"#9c179e\"], [0.4444444444444444, \"#bd3786\"], [0.5555555555555556, \"#d8576b\"], [0.6666666666666666, \"#ed7953\"], [0.7777777777777778, \"#fb9f3a\"], [0.8888888888888888, \"#fdca26\"], [1.0, \"#f0f921\"]]}, \"colorway\": [\"#636efa\", \"#EF553B\", \"#00cc96\", \"#ab63fa\", \"#FFA15A\", \"#19d3f3\", \"#FF6692\", \"#B6E880\", \"#FF97FF\", \"#FECB52\"], \"font\": {\"color\": \"#2a3f5f\"}, \"geo\": {\"bgcolor\": \"white\", \"lakecolor\": \"white\", \"landcolor\": \"#E5ECF6\", \"showlakes\": true, \"showland\": true, \"subunitcolor\": \"white\"}, \"hoverlabel\": {\"align\": \"left\"}, \"hovermode\": \"closest\", \"mapbox\": {\"style\": \"light\"}, \"paper_bgcolor\": \"white\", \"plot_bgcolor\": \"#E5ECF6\", \"polar\": {\"angularaxis\": {\"gridcolor\": \"white\", \"linecolor\": \"white\", \"ticks\": \"\"}, \"bgcolor\": \"#E5ECF6\", \"radialaxis\": {\"gridcolor\": \"white\", \"linecolor\": \"white\", \"ticks\": \"\"}}, \"scene\": {\"xaxis\": {\"backgroundcolor\": \"#E5ECF6\", \"gridcolor\": \"white\", \"gridwidth\": 2, \"linecolor\": \"white\", \"showbackground\": true, \"ticks\": \"\", \"zerolinecolor\": \"white\"}, \"yaxis\": {\"backgroundcolor\": \"#E5ECF6\", \"gridcolor\": \"white\", \"gridwidth\": 2, \"linecolor\": \"white\", \"showbackground\": true, \"ticks\": \"\", \"zerolinecolor\": \"white\"}, \"zaxis\": {\"backgroundcolor\": \"#E5ECF6\", \"gridcolor\": \"white\", \"gridwidth\": 2, \"linecolor\": \"white\", \"showbackground\": true, \"ticks\": \"\", \"zerolinecolor\": \"white\"}}, \"shapedefaults\": {\"line\": {\"color\": \"#2a3f5f\"}}, \"ternary\": {\"aaxis\": {\"gridcolor\": \"white\", \"linecolor\": \"white\", \"ticks\": \"\"}, \"baxis\": {\"gridcolor\": \"white\", \"linecolor\": \"white\", \"ticks\": \"\"}, \"bgcolor\": \"#E5ECF6\", \"caxis\": {\"gridcolor\": \"white\", \"linecolor\": \"white\", \"ticks\": \"\"}}, \"title\": {\"x\": 0.05}, \"xaxis\": {\"automargin\": true, \"gridcolor\": \"white\", \"linecolor\": \"white\", \"ticks\": \"\", \"title\": {\"standoff\": 15}, \"zerolinecolor\": \"white\", \"zerolinewidth\": 2}, \"yaxis\": {\"automargin\": true, \"gridcolor\": \"white\", \"linecolor\": \"white\", \"ticks\": \"\", \"title\": {\"standoff\": 15}, \"zerolinecolor\": \"white\", \"zerolinewidth\": 2}}}},\n",
       "                        {\"responsive\": true}\n",
       "                    ).then(function(){\n",
       "                            \n",
       "var gd = document.getElementById('381c73a6-276d-461f-b14e-b6eb72e165f7');\n",
       "var x = new MutationObserver(function (mutations, observer) {{\n",
       "        var display = window.getComputedStyle(gd).display;\n",
       "        if (!display || display === 'none') {{\n",
       "            console.log([gd, 'removed!']);\n",
       "            Plotly.purge(gd);\n",
       "            observer.disconnect();\n",
       "        }}\n",
       "}});\n",
       "\n",
       "// Listen for the removal of the full notebook cells\n",
       "var notebookContainer = gd.closest('#notebook-container');\n",
       "if (notebookContainer) {{\n",
       "    x.observe(notebookContainer, {childList: true});\n",
       "}}\n",
       "\n",
       "// Listen for the clearing of the current output cell\n",
       "var outputEl = gd.closest('.output');\n",
       "if (outputEl) {{\n",
       "    x.observe(outputEl, {childList: true});\n",
       "}}\n",
       "\n",
       "                        })\n",
       "                };\n",
       "                });\n",
       "            </script>\n",
       "        </div>"
      ]
     },
     "metadata": {},
     "output_type": "display_data"
    }
   ],
   "source": [
    "days = 30\n",
    "x = [str(a) for a in forecast.tail(days+3).ds.to_list()]\n",
    "y = forecast.tail(33).yhat.to_list()\n",
    "fig = go.Figure()\n",
    "fig.add_trace(go.Scatter(x=x, y=y, mode='lines+markers',\n",
    "                    name='predictions'))\n",
    "x = [str(a) for a in final_df.tail(days).ds.to_list()]\n",
    "y = final_df.tail(33).y.to_list()\n",
    "fig.add_trace(go.Scatter(x=x, y=y, mode='lines+markers',\n",
    "                    name='reality'))\n",
    "fig.show()"
   ]
  },
  {
   "cell_type": "code",
   "execution_count": 39,
   "metadata": {},
   "outputs": [],
   "source": [
    "#final_weather_df.to_csv('hist-daily-weather-incl-20-01-14.csv')\n",
    "final_weather_df[:-3].to_csv('hist-daily-weather-incl-20-01-14.csv', index=False)\n",
    "#need to remove the index column in the csv"
   ]
  },
  {
   "cell_type": "code",
   "execution_count": null,
   "metadata": {},
   "outputs": [],
   "source": []
  }
 ],
 "metadata": {
  "kernelspec": {
   "display_name": "Python 3",
   "language": "python",
   "name": "python3"
  },
  "language_info": {
   "codemirror_mode": {
    "name": "ipython",
    "version": 3
   },
   "file_extension": ".py",
   "mimetype": "text/x-python",
   "name": "python",
   "nbconvert_exporter": "python",
   "pygments_lexer": "ipython3",
   "version": "3.7.1"
  }
 },
 "nbformat": 4,
 "nbformat_minor": 4
}
