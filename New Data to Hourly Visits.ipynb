{
 "cells": [
  {
   "cell_type": "code",
   "execution_count": 1,
   "metadata": {},
   "outputs": [],
   "source": [
    "import pandas as pd\n",
    "import numpy as np\n",
    "import time"
   ]
  },
  {
   "cell_type": "code",
   "execution_count": 8,
   "metadata": {},
   "outputs": [
    {
     "data": {
      "text/html": [
       "<div>\n",
       "<style scoped>\n",
       "    .dataframe tbody tr th:only-of-type {\n",
       "        vertical-align: middle;\n",
       "    }\n",
       "\n",
       "    .dataframe tbody tr th {\n",
       "        vertical-align: top;\n",
       "    }\n",
       "\n",
       "    .dataframe thead th {\n",
       "        text-align: right;\n",
       "    }\n",
       "</style>\n",
       "<table border=\"1\" class=\"dataframe\">\n",
       "  <thead>\n",
       "    <tr style=\"text-align: right;\">\n",
       "      <th></th>\n",
       "      <th>count</th>\n",
       "    </tr>\n",
       "    <tr>\n",
       "      <th>DateTime</th>\n",
       "      <th></th>\n",
       "    </tr>\n",
       "  </thead>\n",
       "  <tbody>\n",
       "    <tr>\n",
       "      <td>2019-12-18 00:22:02</td>\n",
       "      <td>1</td>\n",
       "    </tr>\n",
       "    <tr>\n",
       "      <td>2019-12-18 00:28:15</td>\n",
       "      <td>1</td>\n",
       "    </tr>\n",
       "    <tr>\n",
       "      <td>2019-12-18 00:32:55</td>\n",
       "      <td>1</td>\n",
       "    </tr>\n",
       "    <tr>\n",
       "      <td>2019-12-18 00:38:23</td>\n",
       "      <td>1</td>\n",
       "    </tr>\n",
       "    <tr>\n",
       "      <td>2019-12-18 01:00:56</td>\n",
       "      <td>1</td>\n",
       "    </tr>\n",
       "  </tbody>\n",
       "</table>\n",
       "</div>"
      ],
      "text/plain": [
       "                     count\n",
       "DateTime                  \n",
       "2019-12-18 00:22:02      1\n",
       "2019-12-18 00:28:15      1\n",
       "2019-12-18 00:32:55      1\n",
       "2019-12-18 00:38:23      1\n",
       "2019-12-18 01:00:56      1"
      ]
     },
     "execution_count": 8,
     "metadata": {},
     "output_type": "execute_result"
    }
   ],
   "source": [
    "df = pd.read_excel('all-registrations-dec18-jan12.xlsx', parse_dates=[\"DateTime\"])\n",
    "df = df.dropna()\n",
    "df['count'] = 1\n",
    "df.set_index('DateTime',inplace=True)\n",
    "df.head()"
   ]
  },
  {
   "cell_type": "code",
   "execution_count": 9,
   "metadata": {},
   "outputs": [
    {
     "name": "stdout",
     "output_type": "stream",
     "text": [
      "Int64Index([0, 0, 0, 0, 1, 1, 1, 2, 2, 2], dtype='int64', name='DateTime')\n",
      "[datetime.date(2019, 12, 18) datetime.date(2019, 12, 18)\n",
      " datetime.date(2019, 12, 18) datetime.date(2019, 12, 18)\n",
      " datetime.date(2019, 12, 18) datetime.date(2019, 12, 18)\n",
      " datetime.date(2019, 12, 18) datetime.date(2019, 12, 18)\n",
      " datetime.date(2019, 12, 18) datetime.date(2019, 12, 18)]\n"
     ]
    }
   ],
   "source": [
    "hours = df.index.hour\n",
    "print(hours[:10])\n",
    "date = df.index.date\n",
    "print(date[:10])"
   ]
  },
  {
   "cell_type": "code",
   "execution_count": 10,
   "metadata": {},
   "outputs": [
    {
     "data": {
      "text/plain": [
       "            DateTime\n",
       "2019-12-18  0           4\n",
       "            1           3\n",
       "            2           5\n",
       "            3           3\n",
       "            4           2\n",
       "                       ..\n",
       "2020-01-11  16          9\n",
       "            17          7\n",
       "            18          3\n",
       "            19          4\n",
       "            20          1\n",
       "Name: count, Length: 596, dtype: int64"
      ]
     },
     "execution_count": 10,
     "metadata": {},
     "output_type": "execute_result"
    }
   ],
   "source": [
    "df.groupby([date,hours])[\"count\"].count()"
   ]
  },
  {
   "cell_type": "code",
   "execution_count": 11,
   "metadata": {},
   "outputs": [],
   "source": [
    "df2 = df.resample(\"H\")[\"count\"].count()"
   ]
  },
  {
   "cell_type": "code",
   "execution_count": 15,
   "metadata": {},
   "outputs": [
    {
     "name": "stderr",
     "output_type": "stream",
     "text": [
      "/anaconda3/envs/prophet/lib/python3.7/site-packages/ipykernel_launcher.py:1: FutureWarning: The signature of `Series.to_csv` was aligned to that of `DataFrame.to_csv`, and argument 'header' will change its default value from False to True: please pass an explicit value to suppress this warning.\n",
      "  \"\"\"Entry point for launching an IPython kernel.\n"
     ]
    }
   ],
   "source": [
    "df2.to_csv('hourly-registrations-dec18-jan12.csv')"
   ]
  },
  {
   "cell_type": "code",
   "execution_count": 12,
   "metadata": {},
   "outputs": [
    {
     "data": {
      "text/plain": [
       "DateTime\n",
       "2019-12-18 00:00:00    4\n",
       "2019-12-18 01:00:00    3\n",
       "2019-12-18 02:00:00    5\n",
       "2019-12-18 03:00:00    3\n",
       "2019-12-18 04:00:00    2\n",
       "                      ..\n",
       "2020-01-11 16:00:00    9\n",
       "2020-01-11 17:00:00    7\n",
       "2020-01-11 18:00:00    3\n",
       "2020-01-11 19:00:00    4\n",
       "2020-01-11 20:00:00    1\n",
       "Freq: H, Name: count, Length: 597, dtype: int64"
      ]
     },
     "execution_count": 12,
     "metadata": {},
     "output_type": "execute_result"
    }
   ],
   "source": [
    "df2"
   ]
  },
  {
   "cell_type": "code",
   "execution_count": null,
   "metadata": {},
   "outputs": [],
   "source": []
  }
 ],
 "metadata": {
  "kernelspec": {
   "display_name": "Python 3",
   "language": "python",
   "name": "python3"
  },
  "language_info": {
   "codemirror_mode": {
    "name": "ipython",
    "version": 3
   },
   "file_extension": ".py",
   "mimetype": "text/x-python",
   "name": "python",
   "nbconvert_exporter": "python",
   "pygments_lexer": "ipython3",
   "version": "3.7.5"
  }
 },
 "nbformat": 4,
 "nbformat_minor": 2
}
